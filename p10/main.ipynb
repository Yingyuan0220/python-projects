{
 "cells": [
  {
   "cell_type": "code",
   "execution_count": 1,
   "metadata": {},
   "outputs": [],
   "source": [
    "# my-login: zhang963\n",
    "# partner-login: slchan2"
   ]
  },
  {
   "cell_type": "code",
   "execution_count": 2,
   "metadata": {},
   "outputs": [],
   "source": [
    "import pandas as pd\n",
    "from pandas import Series, DataFrame\n",
    "import requests\n",
    "import sqlite3\n",
    "conn = sqlite3.connect('countries.db')\n",
    "%matplotlib inline \n",
    "import matplotlib.pyplot as plt\n",
    "import numpy as np\n",
    "import json\n",
    "\n"
   ]
  },
  {
   "cell_type": "code",
   "execution_count": 3,
   "metadata": {},
   "outputs": [
    {
     "data": {
      "text/plain": [
       "6279556636"
      ]
     },
     "execution_count": 3,
     "metadata": {},
     "output_type": "execute_result"
    }
   ],
   "source": [
    "#q1\n",
    "df_country = pd.read_json(\"https://tyler.caraza-harter.com/cs301/fall18/data/countries.json\")\n",
    "df_country['population'].sum()"
   ]
  },
  {
   "cell_type": "code",
   "execution_count": 4,
   "metadata": {},
   "outputs": [
    {
     "data": {
      "text/plain": [
       "'https://tyler.caraza-harter.com/cs301/fall18/data/capitals/ElSalvador.json'"
      ]
     },
     "execution_count": 4,
     "metadata": {},
     "output_type": "execute_result"
    }
   ],
   "source": [
    "#q2\n",
    "capitals = requests.get('https://tyler.caraza-harter.com/cs301/fall18/data/capitals.txt')\n",
    "capital_list = capitals.text.split('\\n')\n",
    "capital= capital_list[0]\n",
    "capital"
   ]
  },
  {
   "cell_type": "code",
   "execution_count": 5,
   "metadata": {},
   "outputs": [
    {
     "data": {
      "text/plain": [
       "'Beijing'"
      ]
     },
     "execution_count": 5,
     "metadata": {},
     "output_type": "execute_result"
    }
   ],
   "source": [
    "#q3\n",
    "newlist = []\n",
    "for url in capital_list:\n",
    "    result = requests.get(url).json()\n",
    "    cap = result['capital']\n",
    "    cou = result['country']\n",
    "    lat = result['latitude']\n",
    "    lon = result['longitude']\n",
    "    newlist.append([cap,cou,lat,lon])\n",
    "\n",
    "df_capital = pd.DataFrame(newlist,columns=['capital', 'country','latitude','longitude'])\n",
    "for index,row in df_capital.iterrows():\n",
    "    if row['country'] == 'China':\n",
    "        capital_name = row['capital']\n",
    "        break\n",
    "capital_name"
   ]
  },
  {
   "cell_type": "code",
   "execution_count": 6,
   "metadata": {},
   "outputs": [
    {
     "data": {
      "text/plain": [
       "'[\"New Zealand\", \"Australia\", \"Uruguay\", \"Argentina\", \"Chile\"]'"
      ]
     },
     "execution_count": 6,
     "metadata": {},
     "output_type": "execute_result"
    }
   ],
   "source": [
    "#q4\n",
    "df_capital=df_capital.sort_values(by=['latitude'])\n",
    "ms=df_capital.head(5)\n",
    "json.dumps(ms['country'].tolist())"
   ]
  },
  {
   "cell_type": "code",
   "execution_count": 7,
   "metadata": {},
   "outputs": [
    {
     "data": {
      "text/plain": [
       "'[\"Iceland\", \"Finland\", \"Norway\"]'"
      ]
     },
     "execution_count": 7,
     "metadata": {},
     "output_type": "execute_result"
    }
   ],
   "source": [
    "#q5\n",
    "df_capital = df_capital.sort_values(by=['latitude'],ascending=False)\n",
    "mn=df_capital.head(3)\n",
    "json.dumps(mn['country'].tolist())"
   ]
  },
  {
   "cell_type": "code",
   "execution_count": 8,
   "metadata": {},
   "outputs": [
    {
     "data": {
      "text/html": [
       "<div>\n",
       "<style scoped>\n",
       "    .dataframe tbody tr th:only-of-type {\n",
       "        vertical-align: middle;\n",
       "    }\n",
       "\n",
       "    .dataframe tbody tr th {\n",
       "        vertical-align: top;\n",
       "    }\n",
       "\n",
       "    .dataframe thead th {\n",
       "        text-align: right;\n",
       "    }\n",
       "</style>\n",
       "<table border=\"1\" class=\"dataframe\">\n",
       "  <thead>\n",
       "    <tr style=\"text-align: right;\">\n",
       "      <th></th>\n",
       "      <th>area</th>\n",
       "      <th>birth-rate</th>\n",
       "      <th>coastline</th>\n",
       "      <th>death-rate</th>\n",
       "      <th>gdp-per-capita</th>\n",
       "      <th>infant-mortality</th>\n",
       "      <th>net-migration</th>\n",
       "      <th>population</th>\n",
       "    </tr>\n",
       "  </thead>\n",
       "  <tbody>\n",
       "    <tr>\n",
       "      <th>count</th>\n",
       "      <td>1.750000e+02</td>\n",
       "      <td>175.000000</td>\n",
       "      <td>175.000000</td>\n",
       "      <td>175.000000</td>\n",
       "      <td>175.000000</td>\n",
       "      <td>175.000000</td>\n",
       "      <td>175.000000</td>\n",
       "      <td>1.750000e+02</td>\n",
       "    </tr>\n",
       "    <tr>\n",
       "      <th>mean</th>\n",
       "      <td>7.285332e+05</td>\n",
       "      <td>22.536114</td>\n",
       "      <td>10.833657</td>\n",
       "      <td>9.654971</td>\n",
       "      <td>9781.714286</td>\n",
       "      <td>38.052743</td>\n",
       "      <td>0.123314</td>\n",
       "      <td>3.588318e+07</td>\n",
       "    </tr>\n",
       "    <tr>\n",
       "      <th>std</th>\n",
       "      <td>2.005565e+06</td>\n",
       "      <td>11.287090</td>\n",
       "      <td>38.245751</td>\n",
       "      <td>5.187216</td>\n",
       "      <td>10612.928974</td>\n",
       "      <td>35.369320</td>\n",
       "      <td>4.466356</td>\n",
       "      <td>1.333418e+08</td>\n",
       "    </tr>\n",
       "    <tr>\n",
       "      <th>min</th>\n",
       "      <td>2.000000e+00</td>\n",
       "      <td>8.250000</td>\n",
       "      <td>0.000000</td>\n",
       "      <td>2.410000</td>\n",
       "      <td>500.000000</td>\n",
       "      <td>2.290000</td>\n",
       "      <td>-13.920000</td>\n",
       "      <td>7.502000e+03</td>\n",
       "    </tr>\n",
       "    <tr>\n",
       "      <th>25%</th>\n",
       "      <td>2.779000e+04</td>\n",
       "      <td>12.635000</td>\n",
       "      <td>0.090000</td>\n",
       "      <td>6.075000</td>\n",
       "      <td>1900.000000</td>\n",
       "      <td>8.550000</td>\n",
       "      <td>-0.905000</td>\n",
       "      <td>2.033239e+06</td>\n",
       "    </tr>\n",
       "    <tr>\n",
       "      <th>50%</th>\n",
       "      <td>1.431000e+05</td>\n",
       "      <td>20.340000</td>\n",
       "      <td>0.440000</td>\n",
       "      <td>8.230000</td>\n",
       "      <td>5100.000000</td>\n",
       "      <td>24.180000</td>\n",
       "      <td>0.000000</td>\n",
       "      <td>7.523934e+06</td>\n",
       "    </tr>\n",
       "    <tr>\n",
       "      <th>75%</th>\n",
       "      <td>5.209850e+05</td>\n",
       "      <td>30.200000</td>\n",
       "      <td>3.150000</td>\n",
       "      <td>11.965000</td>\n",
       "      <td>14450.000000</td>\n",
       "      <td>62.155000</td>\n",
       "      <td>0.770000</td>\n",
       "      <td>2.272283e+07</td>\n",
       "    </tr>\n",
       "    <tr>\n",
       "      <th>max</th>\n",
       "      <td>1.707520e+07</td>\n",
       "      <td>50.730000</td>\n",
       "      <td>331.660000</td>\n",
       "      <td>29.740000</td>\n",
       "      <td>55100.000000</td>\n",
       "      <td>163.070000</td>\n",
       "      <td>23.060000</td>\n",
       "      <td>1.313974e+09</td>\n",
       "    </tr>\n",
       "  </tbody>\n",
       "</table>\n",
       "</div>"
      ],
      "text/plain": [
       "               area  birth-rate   coastline  death-rate  gdp-per-capita  \\\n",
       "count  1.750000e+02  175.000000  175.000000  175.000000      175.000000   \n",
       "mean   7.285332e+05   22.536114   10.833657    9.654971     9781.714286   \n",
       "std    2.005565e+06   11.287090   38.245751    5.187216    10612.928974   \n",
       "min    2.000000e+00    8.250000    0.000000    2.410000      500.000000   \n",
       "25%    2.779000e+04   12.635000    0.090000    6.075000     1900.000000   \n",
       "50%    1.431000e+05   20.340000    0.440000    8.230000     5100.000000   \n",
       "75%    5.209850e+05   30.200000    3.150000   11.965000    14450.000000   \n",
       "max    1.707520e+07   50.730000  331.660000   29.740000    55100.000000   \n",
       "\n",
       "       infant-mortality  net-migration    population  \n",
       "count        175.000000     175.000000  1.750000e+02  \n",
       "mean          38.052743       0.123314  3.588318e+07  \n",
       "std           35.369320       4.466356  1.333418e+08  \n",
       "min            2.290000     -13.920000  7.502000e+03  \n",
       "25%            8.550000      -0.905000  2.033239e+06  \n",
       "50%           24.180000       0.000000  7.523934e+06  \n",
       "75%           62.155000       0.770000  2.272283e+07  \n",
       "max          163.070000      23.060000  1.313974e+09  "
      ]
     },
     "execution_count": 8,
     "metadata": {},
     "output_type": "execute_result"
    }
   ],
   "source": [
    "#q6\n",
    "df_country.describe()"
   ]
  },
  {
   "cell_type": "code",
   "execution_count": 9,
   "metadata": {},
   "outputs": [
    {
     "data": {
      "text/html": [
       "<div>\n",
       "<style scoped>\n",
       "    .dataframe tbody tr th:only-of-type {\n",
       "        vertical-align: middle;\n",
       "    }\n",
       "\n",
       "    .dataframe tbody tr th {\n",
       "        vertical-align: top;\n",
       "    }\n",
       "\n",
       "    .dataframe thead th {\n",
       "        text-align: right;\n",
       "    }\n",
       "</style>\n",
       "<table border=\"1\" class=\"dataframe\">\n",
       "  <thead>\n",
       "    <tr style=\"text-align: right;\">\n",
       "      <th></th>\n",
       "      <th>area</th>\n",
       "      <th>birth-rate</th>\n",
       "      <th>coastline</th>\n",
       "      <th>death-rate</th>\n",
       "      <th>gdp-per-capita</th>\n",
       "      <th>infant-mortality</th>\n",
       "      <th>literacy</th>\n",
       "      <th>net-migration</th>\n",
       "      <th>phones</th>\n",
       "      <th>population</th>\n",
       "    </tr>\n",
       "  </thead>\n",
       "  <tbody>\n",
       "    <tr>\n",
       "      <th>count</th>\n",
       "      <td>1.750000e+02</td>\n",
       "      <td>175.000000</td>\n",
       "      <td>175.000000</td>\n",
       "      <td>175.000000</td>\n",
       "      <td>175.000000</td>\n",
       "      <td>175.000000</td>\n",
       "      <td>175.000000</td>\n",
       "      <td>175.000000</td>\n",
       "      <td>175.000000</td>\n",
       "      <td>1.750000e+02</td>\n",
       "    </tr>\n",
       "    <tr>\n",
       "      <th>mean</th>\n",
       "      <td>7.285332e+05</td>\n",
       "      <td>22.536114</td>\n",
       "      <td>10.833657</td>\n",
       "      <td>9.654971</td>\n",
       "      <td>9781.714286</td>\n",
       "      <td>38.052743</td>\n",
       "      <td>82.182286</td>\n",
       "      <td>0.123314</td>\n",
       "      <td>214.621143</td>\n",
       "      <td>3.588318e+07</td>\n",
       "    </tr>\n",
       "    <tr>\n",
       "      <th>std</th>\n",
       "      <td>2.005565e+06</td>\n",
       "      <td>11.287090</td>\n",
       "      <td>38.245751</td>\n",
       "      <td>5.187216</td>\n",
       "      <td>10612.928974</td>\n",
       "      <td>35.369320</td>\n",
       "      <td>20.086897</td>\n",
       "      <td>4.466356</td>\n",
       "      <td>218.613971</td>\n",
       "      <td>1.333418e+08</td>\n",
       "    </tr>\n",
       "    <tr>\n",
       "      <th>min</th>\n",
       "      <td>2.000000e+00</td>\n",
       "      <td>8.250000</td>\n",
       "      <td>0.000000</td>\n",
       "      <td>2.410000</td>\n",
       "      <td>500.000000</td>\n",
       "      <td>2.290000</td>\n",
       "      <td>17.600000</td>\n",
       "      <td>-13.920000</td>\n",
       "      <td>1.300000</td>\n",
       "      <td>7.502000e+03</td>\n",
       "    </tr>\n",
       "    <tr>\n",
       "      <th>25%</th>\n",
       "      <td>2.779000e+04</td>\n",
       "      <td>12.635000</td>\n",
       "      <td>0.090000</td>\n",
       "      <td>6.075000</td>\n",
       "      <td>1900.000000</td>\n",
       "      <td>8.550000</td>\n",
       "      <td>69.950000</td>\n",
       "      <td>-0.905000</td>\n",
       "      <td>31.300000</td>\n",
       "      <td>2.033239e+06</td>\n",
       "    </tr>\n",
       "    <tr>\n",
       "      <th>50%</th>\n",
       "      <td>1.431000e+05</td>\n",
       "      <td>20.340000</td>\n",
       "      <td>0.440000</td>\n",
       "      <td>8.230000</td>\n",
       "      <td>5100.000000</td>\n",
       "      <td>24.180000</td>\n",
       "      <td>92.000000</td>\n",
       "      <td>0.000000</td>\n",
       "      <td>140.100000</td>\n",
       "      <td>7.523934e+06</td>\n",
       "    </tr>\n",
       "    <tr>\n",
       "      <th>75%</th>\n",
       "      <td>5.209850e+05</td>\n",
       "      <td>30.200000</td>\n",
       "      <td>3.150000</td>\n",
       "      <td>11.965000</td>\n",
       "      <td>14450.000000</td>\n",
       "      <td>62.155000</td>\n",
       "      <td>98.000000</td>\n",
       "      <td>0.770000</td>\n",
       "      <td>329.700000</td>\n",
       "      <td>2.272283e+07</td>\n",
       "    </tr>\n",
       "    <tr>\n",
       "      <th>max</th>\n",
       "      <td>1.707520e+07</td>\n",
       "      <td>50.730000</td>\n",
       "      <td>331.660000</td>\n",
       "      <td>29.740000</td>\n",
       "      <td>55100.000000</td>\n",
       "      <td>163.070000</td>\n",
       "      <td>100.000000</td>\n",
       "      <td>23.060000</td>\n",
       "      <td>1035.600000</td>\n",
       "      <td>1.313974e+09</td>\n",
       "    </tr>\n",
       "  </tbody>\n",
       "</table>\n",
       "</div>"
      ],
      "text/plain": [
       "               area  birth-rate   coastline  death-rate  gdp-per-capita  \\\n",
       "count  1.750000e+02  175.000000  175.000000  175.000000      175.000000   \n",
       "mean   7.285332e+05   22.536114   10.833657    9.654971     9781.714286   \n",
       "std    2.005565e+06   11.287090   38.245751    5.187216    10612.928974   \n",
       "min    2.000000e+00    8.250000    0.000000    2.410000      500.000000   \n",
       "25%    2.779000e+04   12.635000    0.090000    6.075000     1900.000000   \n",
       "50%    1.431000e+05   20.340000    0.440000    8.230000     5100.000000   \n",
       "75%    5.209850e+05   30.200000    3.150000   11.965000    14450.000000   \n",
       "max    1.707520e+07   50.730000  331.660000   29.740000    55100.000000   \n",
       "\n",
       "       infant-mortality    literacy  net-migration       phones    population  \n",
       "count        175.000000  175.000000     175.000000   175.000000  1.750000e+02  \n",
       "mean          38.052743   82.182286       0.123314   214.621143  3.588318e+07  \n",
       "std           35.369320   20.086897       4.466356   218.613971  1.333418e+08  \n",
       "min            2.290000   17.600000     -13.920000     1.300000  7.502000e+03  \n",
       "25%            8.550000   69.950000      -0.905000    31.300000  2.033239e+06  \n",
       "50%           24.180000   92.000000       0.000000   140.100000  7.523934e+06  \n",
       "75%           62.155000   98.000000       0.770000   329.700000  2.272283e+07  \n",
       "max          163.070000  100.000000      23.060000  1035.600000  1.313974e+09  "
      ]
     },
     "execution_count": 9,
     "metadata": {},
     "output_type": "execute_result"
    }
   ],
   "source": [
    "#q7\n",
    "df_country['literacy'] = df_country['literacy'].str.replace(\",\",\".\").astype('float64')\n",
    "df_country['phones'] = df_country['phones'].str.replace(\",\", \".\").astype('float64')\n",
    "df_country.describe()"
   ]
  },
  {
   "cell_type": "code",
   "execution_count": 10,
   "metadata": {},
   "outputs": [
    {
     "data": {
      "text/plain": [
       "'Belarus'"
      ]
     },
     "execution_count": 10,
     "metadata": {},
     "output_type": "execute_result"
    }
   ],
   "source": [
    "#q8\n",
    "newdf = df_country[(df_country.continent=='Europe') & ( df_country.coastline == 0.0)].sort_values('area',ascending=False)\n",
    "newdf.iat[0,4]"
   ]
  },
  {
   "cell_type": "code",
   "execution_count": 11,
   "metadata": {},
   "outputs": [
    {
     "data": {
      "text/plain": [
       "'Chad'"
      ]
     },
     "execution_count": 11,
     "metadata": {},
     "output_type": "execute_result"
    }
   ],
   "source": [
    "#q9\n",
    "newdf = df_country[(df_country.continent == 'Africa') & (df_country.coastline == 0.0)].sort_values('area', ascending=False)\n",
    "newdf.iat[0, 4]"
   ]
  },
  {
   "cell_type": "code",
   "execution_count": 12,
   "metadata": {},
   "outputs": [
    {
     "data": {
      "text/plain": [
       "'Bolivia'"
      ]
     },
     "execution_count": 12,
     "metadata": {},
     "output_type": "execute_result"
    }
   ],
   "source": [
    "#q10\n",
    "newdf = df_country[(df_country.continent == 'South America') & (df_country.coastline == 0.0)].sort_values('area', ascending=False)\n",
    "newdf.iat[0, 4]"
   ]
  },
  {
   "cell_type": "code",
   "execution_count": 13,
   "metadata": {},
   "outputs": [],
   "source": [
    "def Haversine(lon1, lat1, lon2, lat2):\n",
    "    from math import radians, cos, sin, asin, sqrt\n",
    "    lon1, lat1, lon2, lat2 = map(radians, [lon1, lat1, lon2, lat2])\n",
    "    dlon = lon2 - lon1\n",
    "    dlat = lat2 - lat1\n",
    "    a = sin(dlat / 2) ** 2 + cos(lat1) * cos(lat2) * sin(dlon / 2) ** 2\n",
    "    c = 2 * asin(sqrt(a))\n",
    "    r = 3956\n",
    "    return c * r"
   ]
  },
  {
   "cell_type": "code",
   "execution_count": 14,
   "metadata": {},
   "outputs": [
    {
     "data": {
      "text/plain": [
       "1.433899492072933"
      ]
     },
     "execution_count": 14,
     "metadata": {},
     "output_type": "execute_result"
    }
   ],
   "source": [
    "#q11\n",
    "Haversine(-89.411893,43.070231,-89.384113,43.074645,)"
   ]
  },
  {
   "cell_type": "code",
   "execution_count": 15,
   "metadata": {},
   "outputs": [
    {
     "data": {
      "text/plain": [
       "8840.574141306946"
      ]
     },
     "execution_count": 15,
     "metadata": {},
     "output_type": "execute_result"
    }
   ],
   "source": [
    "#q12\n",
    "lon1 = df_capital.set_index('country').loc['India'].longitude\n",
    "lat1 = df_capital.set_index('country').loc['India'].latitude\n",
    "lon2 = df_capital.set_index('country').loc['Brazil'].longitude\n",
    "lat2 = df_capital.set_index('country').loc['Brazil'].latitude\n",
    "Haversine(lon1,lat1,lon2,lat2)"
   ]
  },
  {
   "cell_type": "code",
   "execution_count": 16,
   "metadata": {},
   "outputs": [
    {
     "data": {
      "text/html": [
       "<div>\n",
       "<style scoped>\n",
       "    .dataframe tbody tr th:only-of-type {\n",
       "        vertical-align: middle;\n",
       "    }\n",
       "\n",
       "    .dataframe tbody tr th {\n",
       "        vertical-align: top;\n",
       "    }\n",
       "\n",
       "    .dataframe thead th {\n",
       "        text-align: right;\n",
       "    }\n",
       "</style>\n",
       "<table border=\"1\" class=\"dataframe\">\n",
       "  <thead>\n",
       "    <tr style=\"text-align: right;\">\n",
       "      <th></th>\n",
       "      <th>Chile</th>\n",
       "      <th>Guyana</th>\n",
       "      <th>Colombia</th>\n",
       "      <th>Suriname</th>\n",
       "      <th>Brazil</th>\n",
       "      <th>Bolivia</th>\n",
       "      <th>Venezuela</th>\n",
       "      <th>Argentina</th>\n",
       "      <th>Peru</th>\n",
       "      <th>Ecuador</th>\n",
       "      <th>Uruguay</th>\n",
       "      <th>Paraguay</th>\n",
       "    </tr>\n",
       "  </thead>\n",
       "  <tbody>\n",
       "    <tr>\n",
       "      <th>Chile</th>\n",
       "      <td>NaN</td>\n",
       "      <td>2897.553095</td>\n",
       "      <td>2636.644599</td>\n",
       "      <td>2895.810776</td>\n",
       "      <td>1869.737031</td>\n",
       "      <td>1180.741903</td>\n",
       "      <td>3043.657689</td>\n",
       "      <td>690.784168</td>\n",
       "      <td>1531.480189</td>\n",
       "      <td>2350.207788</td>\n",
       "      <td>833.403262</td>\n",
       "      <td>963.635535</td>\n",
       "    </tr>\n",
       "    <tr>\n",
       "      <th>Guyana</th>\n",
       "      <td>2897.553095</td>\n",
       "      <td>NaN</td>\n",
       "      <td>1105.066312</td>\n",
       "      <td>215.336336</td>\n",
       "      <td>1709.071018</td>\n",
       "      <td>1747.772670</td>\n",
       "      <td>646.969843</td>\n",
       "      <td>2857.520462</td>\n",
       "      <td>1837.860149</td>\n",
       "      <td>1483.193753</td>\n",
       "      <td>2878.638295</td>\n",
       "      <td>2214.288286</td>\n",
       "    </tr>\n",
       "    <tr>\n",
       "      <th>Colombia</th>\n",
       "      <td>2636.644599</td>\n",
       "      <td>1105.066312</td>\n",
       "      <td>NaN</td>\n",
       "      <td>1303.405134</td>\n",
       "      <td>2275.516286</td>\n",
       "      <td>1512.119255</td>\n",
       "      <td>639.361118</td>\n",
       "      <td>2885.355610</td>\n",
       "      <td>1167.505359</td>\n",
       "      <td>451.004119</td>\n",
       "      <td>2962.230943</td>\n",
       "      <td>2337.615967</td>\n",
       "    </tr>\n",
       "    <tr>\n",
       "      <th>Suriname</th>\n",
       "      <td>2895.810776</td>\n",
       "      <td>215.336336</td>\n",
       "      <td>1303.405134</td>\n",
       "      <td>NaN</td>\n",
       "      <td>1572.674233</td>\n",
       "      <td>1778.772975</td>\n",
       "      <td>861.456786</td>\n",
       "      <td>2799.886429</td>\n",
       "      <td>1944.750017</td>\n",
       "      <td>1661.699022</td>\n",
       "      <td>2809.744412</td>\n",
       "      <td>2153.855447</td>\n",
       "    </tr>\n",
       "    <tr>\n",
       "      <th>Brazil</th>\n",
       "      <td>1869.737031</td>\n",
       "      <td>1709.071018</td>\n",
       "      <td>2275.516286</td>\n",
       "      <td>1572.674233</td>\n",
       "      <td>NaN</td>\n",
       "      <td>1342.297074</td>\n",
       "      <td>2228.690680</td>\n",
       "      <td>1459.139733</td>\n",
       "      <td>1967.770515</td>\n",
       "      <td>2344.584922</td>\n",
       "      <td>1412.096335</td>\n",
       "      <td>908.185709</td>\n",
       "    </tr>\n",
       "    <tr>\n",
       "      <th>Bolivia</th>\n",
       "      <td>1180.741903</td>\n",
       "      <td>1747.772670</td>\n",
       "      <td>1512.119255</td>\n",
       "      <td>1778.772975</td>\n",
       "      <td>1342.297074</td>\n",
       "      <td>NaN</td>\n",
       "      <td>1865.131181</td>\n",
       "      <td>1379.455702</td>\n",
       "      <td>669.926372</td>\n",
       "      <td>1326.758656</td>\n",
       "      <td>1467.253638</td>\n",
       "      <td>906.799256</td>\n",
       "    </tr>\n",
       "    <tr>\n",
       "      <th>Venezuela</th>\n",
       "      <td>3043.657689</td>\n",
       "      <td>646.969843</td>\n",
       "      <td>639.361118</td>\n",
       "      <td>861.456786</td>\n",
       "      <td>2228.690680</td>\n",
       "      <td>1865.131181</td>\n",
       "      <td>NaN</td>\n",
       "      <td>3157.624051</td>\n",
       "      <td>1705.418003</td>\n",
       "      <td>1088.064118</td>\n",
       "      <td>3207.352176</td>\n",
       "      <td>2544.799572</td>\n",
       "    </tr>\n",
       "    <tr>\n",
       "      <th>Argentina</th>\n",
       "      <td>690.784168</td>\n",
       "      <td>2857.520462</td>\n",
       "      <td>2885.355610</td>\n",
       "      <td>2799.886429</td>\n",
       "      <td>1459.139733</td>\n",
       "      <td>1379.455702</td>\n",
       "      <td>3157.624051</td>\n",
       "      <td>NaN</td>\n",
       "      <td>1936.465790</td>\n",
       "      <td>2696.149591</td>\n",
       "      <td>143.069943</td>\n",
       "      <td>646.036442</td>\n",
       "    </tr>\n",
       "    <tr>\n",
       "      <th>Peru</th>\n",
       "      <td>1531.480189</td>\n",
       "      <td>1837.860149</td>\n",
       "      <td>1167.505359</td>\n",
       "      <td>1944.750017</td>\n",
       "      <td>1967.770515</td>\n",
       "      <td>669.926372</td>\n",
       "      <td>1705.418003</td>\n",
       "      <td>1936.465790</td>\n",
       "      <td>NaN</td>\n",
       "      <td>823.054491</td>\n",
       "      <td>2046.571589</td>\n",
       "      <td>1558.635236</td>\n",
       "    </tr>\n",
       "    <tr>\n",
       "      <th>Ecuador</th>\n",
       "      <td>2350.207788</td>\n",
       "      <td>1483.193753</td>\n",
       "      <td>451.004119</td>\n",
       "      <td>1661.699022</td>\n",
       "      <td>2344.584922</td>\n",
       "      <td>1326.758656</td>\n",
       "      <td>1088.064118</td>\n",
       "      <td>2696.149591</td>\n",
       "      <td>823.054491</td>\n",
       "      <td>NaN</td>\n",
       "      <td>2791.196721</td>\n",
       "      <td>2218.650964</td>\n",
       "    </tr>\n",
       "    <tr>\n",
       "      <th>Uruguay</th>\n",
       "      <td>833.403262</td>\n",
       "      <td>2878.638295</td>\n",
       "      <td>2962.230943</td>\n",
       "      <td>2809.744412</td>\n",
       "      <td>1412.096335</td>\n",
       "      <td>1467.253638</td>\n",
       "      <td>3207.352176</td>\n",
       "      <td>143.069943</td>\n",
       "      <td>2046.571589</td>\n",
       "      <td>2791.196721</td>\n",
       "      <td>NaN</td>\n",
       "      <td>667.699386</td>\n",
       "    </tr>\n",
       "    <tr>\n",
       "      <th>Paraguay</th>\n",
       "      <td>963.635535</td>\n",
       "      <td>2214.288286</td>\n",
       "      <td>2337.615967</td>\n",
       "      <td>2153.855447</td>\n",
       "      <td>908.185709</td>\n",
       "      <td>906.799256</td>\n",
       "      <td>2544.799572</td>\n",
       "      <td>646.036442</td>\n",
       "      <td>1558.635236</td>\n",
       "      <td>2218.650964</td>\n",
       "      <td>667.699386</td>\n",
       "      <td>NaN</td>\n",
       "    </tr>\n",
       "  </tbody>\n",
       "</table>\n",
       "</div>"
      ],
      "text/plain": [
       "                 Chile       Guyana     Colombia     Suriname       Brazil  \\\n",
       "Chile              NaN  2897.553095  2636.644599  2895.810776  1869.737031   \n",
       "Guyana     2897.553095          NaN  1105.066312   215.336336  1709.071018   \n",
       "Colombia   2636.644599  1105.066312          NaN  1303.405134  2275.516286   \n",
       "Suriname   2895.810776   215.336336  1303.405134          NaN  1572.674233   \n",
       "Brazil     1869.737031  1709.071018  2275.516286  1572.674233          NaN   \n",
       "Bolivia    1180.741903  1747.772670  1512.119255  1778.772975  1342.297074   \n",
       "Venezuela  3043.657689   646.969843   639.361118   861.456786  2228.690680   \n",
       "Argentina   690.784168  2857.520462  2885.355610  2799.886429  1459.139733   \n",
       "Peru       1531.480189  1837.860149  1167.505359  1944.750017  1967.770515   \n",
       "Ecuador    2350.207788  1483.193753   451.004119  1661.699022  2344.584922   \n",
       "Uruguay     833.403262  2878.638295  2962.230943  2809.744412  1412.096335   \n",
       "Paraguay    963.635535  2214.288286  2337.615967  2153.855447   908.185709   \n",
       "\n",
       "               Bolivia    Venezuela    Argentina         Peru      Ecuador  \\\n",
       "Chile      1180.741903  3043.657689   690.784168  1531.480189  2350.207788   \n",
       "Guyana     1747.772670   646.969843  2857.520462  1837.860149  1483.193753   \n",
       "Colombia   1512.119255   639.361118  2885.355610  1167.505359   451.004119   \n",
       "Suriname   1778.772975   861.456786  2799.886429  1944.750017  1661.699022   \n",
       "Brazil     1342.297074  2228.690680  1459.139733  1967.770515  2344.584922   \n",
       "Bolivia            NaN  1865.131181  1379.455702   669.926372  1326.758656   \n",
       "Venezuela  1865.131181          NaN  3157.624051  1705.418003  1088.064118   \n",
       "Argentina  1379.455702  3157.624051          NaN  1936.465790  2696.149591   \n",
       "Peru        669.926372  1705.418003  1936.465790          NaN   823.054491   \n",
       "Ecuador    1326.758656  1088.064118  2696.149591   823.054491          NaN   \n",
       "Uruguay    1467.253638  3207.352176   143.069943  2046.571589  2791.196721   \n",
       "Paraguay    906.799256  2544.799572   646.036442  1558.635236  2218.650964   \n",
       "\n",
       "               Uruguay     Paraguay  \n",
       "Chile       833.403262   963.635535  \n",
       "Guyana     2878.638295  2214.288286  \n",
       "Colombia   2962.230943  2337.615967  \n",
       "Suriname   2809.744412  2153.855447  \n",
       "Brazil     1412.096335   908.185709  \n",
       "Bolivia    1467.253638   906.799256  \n",
       "Venezuela  3207.352176  2544.799572  \n",
       "Argentina   143.069943   646.036442  \n",
       "Peru       2046.571589  1558.635236  \n",
       "Ecuador    2791.196721  2218.650964  \n",
       "Uruguay            NaN   667.699386  \n",
       "Paraguay    667.699386          NaN  "
      ]
     },
     "execution_count": 16,
     "metadata": {},
     "output_type": "execute_result"
    }
   ],
   "source": [
    "#q13\n",
    "df_target = df_country[df_country.continent=='South America']\n",
    "countries = []\n",
    "for index,row in df_target.iterrows():\n",
    "    countries.append(row['country'])dist=[]\n",
    "for i in range(len(countries)):\n",
    "    country1 = countries[i]\n",
    "    temp = []\n",
    "    lon1 = df_capital.set_index('country').loc[country1].longitude\n",
    "    lat1 = df_capital.set_index('country').loc[country1].latitude\n",
    "    for j in range(len(countries)):\n",
    "        country2 = countries[j]\n",
    "        lon2 = df_capital.set_index('country').loc[country2].longitude\n",
    "        lat2 = df_capital.set_index('country').loc[country2].latitude\n",
    "        if i==j:\n",
    "            temp.append(None)\n",
    "        else:\n",
    "            temp.append(Haversine(lon1,lat1,lon2,lat2))\n",
    "    dist.append(temp)\n",
    "\n",
    "df_dist =pd.DataFrame(dist,index = countries,columns=countries)\n",
    "df_dist"
   ]
  },
  {
   "cell_type": "code",
   "execution_count": 17,
   "metadata": {},
   "outputs": [
    {
     "data": {
      "text/plain": [
       "'Bolivia'"
      ]
     },
     "execution_count": 17,
     "metadata": {},
     "output_type": "execute_result"
    }
   ],
   "source": [
    "#q14\n",
    "df_dist.mean(0,skipna = True).sort_values().index[0]"
   ]
  },
  {
   "cell_type": "code",
   "execution_count": 18,
   "metadata": {},
   "outputs": [
    {
     "data": {
      "text/html": [
       "<div>\n",
       "<style scoped>\n",
       "    .dataframe tbody tr th:only-of-type {\n",
       "        vertical-align: middle;\n",
       "    }\n",
       "\n",
       "    .dataframe tbody tr th {\n",
       "        vertical-align: top;\n",
       "    }\n",
       "\n",
       "    .dataframe thead th {\n",
       "        text-align: right;\n",
       "    }\n",
       "</style>\n",
       "<table border=\"1\" class=\"dataframe\">\n",
       "  <thead>\n",
       "    <tr style=\"text-align: right;\">\n",
       "      <th></th>\n",
       "      <th>nearest</th>\n",
       "      <th>distance</th>\n",
       "    </tr>\n",
       "  </thead>\n",
       "  <tbody>\n",
       "    <tr>\n",
       "      <th>Chile</th>\n",
       "      <td>Argentina</td>\n",
       "      <td>690.784168</td>\n",
       "    </tr>\n",
       "    <tr>\n",
       "      <th>Guyana</th>\n",
       "      <td>Suriname</td>\n",
       "      <td>215.336336</td>\n",
       "    </tr>\n",
       "    <tr>\n",
       "      <th>Colombia</th>\n",
       "      <td>Ecuador</td>\n",
       "      <td>451.004119</td>\n",
       "    </tr>\n",
       "    <tr>\n",
       "      <th>Suriname</th>\n",
       "      <td>Guyana</td>\n",
       "      <td>215.336336</td>\n",
       "    </tr>\n",
       "    <tr>\n",
       "      <th>Brazil</th>\n",
       "      <td>Paraguay</td>\n",
       "      <td>908.185709</td>\n",
       "    </tr>\n",
       "    <tr>\n",
       "      <th>Bolivia</th>\n",
       "      <td>Peru</td>\n",
       "      <td>669.926372</td>\n",
       "    </tr>\n",
       "    <tr>\n",
       "      <th>Venezuela</th>\n",
       "      <td>Colombia</td>\n",
       "      <td>639.361118</td>\n",
       "    </tr>\n",
       "    <tr>\n",
       "      <th>Argentina</th>\n",
       "      <td>Uruguay</td>\n",
       "      <td>143.069943</td>\n",
       "    </tr>\n",
       "    <tr>\n",
       "      <th>Peru</th>\n",
       "      <td>Bolivia</td>\n",
       "      <td>669.926372</td>\n",
       "    </tr>\n",
       "    <tr>\n",
       "      <th>Ecuador</th>\n",
       "      <td>Colombia</td>\n",
       "      <td>451.004119</td>\n",
       "    </tr>\n",
       "    <tr>\n",
       "      <th>Uruguay</th>\n",
       "      <td>Argentina</td>\n",
       "      <td>143.069943</td>\n",
       "    </tr>\n",
       "    <tr>\n",
       "      <th>Paraguay</th>\n",
       "      <td>Argentina</td>\n",
       "      <td>646.036442</td>\n",
       "    </tr>\n",
       "  </tbody>\n",
       "</table>\n",
       "</div>"
      ],
      "text/plain": [
       "             nearest    distance\n",
       "Chile      Argentina  690.784168\n",
       "Guyana      Suriname  215.336336\n",
       "Colombia     Ecuador  451.004119\n",
       "Suriname      Guyana  215.336336\n",
       "Brazil      Paraguay  908.185709\n",
       "Bolivia         Peru  669.926372\n",
       "Venezuela   Colombia  639.361118\n",
       "Argentina    Uruguay  143.069943\n",
       "Peru         Bolivia  669.926372\n",
       "Ecuador     Colombia  451.004119\n",
       "Uruguay    Argentina  143.069943\n",
       "Paraguay   Argentina  646.036442"
      ]
     },
     "execution_count": 18,
     "metadata": {},
     "output_type": "execute_result"
    }
   ],
   "source": [
    "#q15\n",
    "ss_idx = df_dist.idxmin(skipna = True)\n",
    "ret = []\n",
    "ss_val = df_dist.min(skipna = True)\n",
    "for i in range(len(ss_idx.keys())):\n",
    "    index = ss_idx[i]\n",
    "    value = ss_val[i]\n",
    "    ret.append([index,value])\n",
    "df_nearest = pd.DataFrame(ret,columns=['nearest','distance'], index=ss_idx.keys())\n",
    "df_nearest"
   ]
  },
  {
   "cell_type": "code",
   "execution_count": 19,
   "metadata": {},
   "outputs": [],
   "source": [
    "df_country.to_sql(\"countries_table\", conn, if_exists=\"replace\", index=False)"
   ]
  },
  {
   "cell_type": "code",
   "execution_count": 20,
   "metadata": {},
   "outputs": [
    {
     "data": {
      "text/html": [
       "<div>\n",
       "<style scoped>\n",
       "    .dataframe tbody tr th:only-of-type {\n",
       "        vertical-align: middle;\n",
       "    }\n",
       "\n",
       "    .dataframe tbody tr th {\n",
       "        vertical-align: top;\n",
       "    }\n",
       "\n",
       "    .dataframe thead th {\n",
       "        text-align: right;\n",
       "    }\n",
       "</style>\n",
       "<table border=\"1\" class=\"dataframe\">\n",
       "  <thead>\n",
       "    <tr style=\"text-align: right;\">\n",
       "      <th></th>\n",
       "      <th>country</th>\n",
       "      <th>population</th>\n",
       "    </tr>\n",
       "  </thead>\n",
       "  <tbody>\n",
       "    <tr>\n",
       "      <th>0</th>\n",
       "      <td>Anguilla</td>\n",
       "      <td>13477</td>\n",
       "    </tr>\n",
       "    <tr>\n",
       "      <th>1</th>\n",
       "      <td>Cayman Islands</td>\n",
       "      <td>45436</td>\n",
       "    </tr>\n",
       "    <tr>\n",
       "      <th>2</th>\n",
       "      <td>Bermuda</td>\n",
       "      <td>65773</td>\n",
       "    </tr>\n",
       "    <tr>\n",
       "      <th>3</th>\n",
       "      <td>Dominica</td>\n",
       "      <td>68910</td>\n",
       "    </tr>\n",
       "    <tr>\n",
       "      <th>4</th>\n",
       "      <td>Aruba</td>\n",
       "      <td>71891</td>\n",
       "    </tr>\n",
       "    <tr>\n",
       "      <th>5</th>\n",
       "      <td>Grenada</td>\n",
       "      <td>89703</td>\n",
       "    </tr>\n",
       "  </tbody>\n",
       "</table>\n",
       "</div>"
      ],
      "text/plain": [
       "          country  population\n",
       "0        Anguilla       13477\n",
       "1  Cayman Islands       45436\n",
       "2         Bermuda       65773\n",
       "3        Dominica       68910\n",
       "4           Aruba       71891\n",
       "5         Grenada       89703"
      ]
     },
     "execution_count": 20,
     "metadata": {},
     "output_type": "execute_result"
    }
   ],
   "source": [
    "#q16\n",
    "result_df = pd.read_sql(\"select country,population from countries_table where continent='North America' and population <=100000 order by population\", conn)\n",
    "result_df"
   ]
  },
  {
   "cell_type": "code",
   "execution_count": 21,
   "metadata": {},
   "outputs": [
    {
     "data": {
      "text/html": [
       "<div>\n",
       "<style scoped>\n",
       "    .dataframe tbody tr th:only-of-type {\n",
       "        vertical-align: middle;\n",
       "    }\n",
       "\n",
       "    .dataframe tbody tr th {\n",
       "        vertical-align: top;\n",
       "    }\n",
       "\n",
       "    .dataframe thead th {\n",
       "        text-align: right;\n",
       "    }\n",
       "</style>\n",
       "<table border=\"1\" class=\"dataframe\">\n",
       "  <thead>\n",
       "    <tr style=\"text-align: right;\">\n",
       "      <th></th>\n",
       "      <th>country</th>\n",
       "      <th>population</th>\n",
       "    </tr>\n",
       "  </thead>\n",
       "  <tbody>\n",
       "    <tr>\n",
       "      <th>0</th>\n",
       "      <td>Russia</td>\n",
       "      <td>142893540</td>\n",
       "    </tr>\n",
       "    <tr>\n",
       "      <th>1</th>\n",
       "      <td>Germany</td>\n",
       "      <td>82422299</td>\n",
       "    </tr>\n",
       "    <tr>\n",
       "      <th>2</th>\n",
       "      <td>Turkey</td>\n",
       "      <td>70413958</td>\n",
       "    </tr>\n",
       "  </tbody>\n",
       "</table>\n",
       "</div>"
      ],
      "text/plain": [
       "   country  population\n",
       "0   Russia   142893540\n",
       "1  Germany    82422299\n",
       "2   Turkey    70413958"
      ]
     },
     "execution_count": 21,
     "metadata": {},
     "output_type": "execute_result"
    }
   ],
   "source": [
    "#q17\n",
    "result_df = pd.read_sql(\"select country,population from countries_table where continent='Europe' order by population desc\", conn)\n",
    "result_df.head(3)"
   ]
  },
  {
   "cell_type": "code",
   "execution_count": 22,
   "metadata": {},
   "outputs": [
    {
     "data": {
      "text/html": [
       "<div>\n",
       "<style scoped>\n",
       "    .dataframe tbody tr th:only-of-type {\n",
       "        vertical-align: middle;\n",
       "    }\n",
       "\n",
       "    .dataframe tbody tr th {\n",
       "        vertical-align: top;\n",
       "    }\n",
       "\n",
       "    .dataframe thead th {\n",
       "        text-align: right;\n",
       "    }\n",
       "</style>\n",
       "<table border=\"1\" class=\"dataframe\">\n",
       "  <thead>\n",
       "    <tr style=\"text-align: right;\">\n",
       "      <th></th>\n",
       "      <th>continent</th>\n",
       "      <th>avg_pop</th>\n",
       "    </tr>\n",
       "  </thead>\n",
       "  <tbody>\n",
       "    <tr>\n",
       "      <th>0</th>\n",
       "      <td>Asia</td>\n",
       "      <td>9.841850e+07</td>\n",
       "    </tr>\n",
       "    <tr>\n",
       "      <th>1</th>\n",
       "      <td>Central America</td>\n",
       "      <td>4.351613e+07</td>\n",
       "    </tr>\n",
       "    <tr>\n",
       "      <th>2</th>\n",
       "      <td>South America</td>\n",
       "      <td>3.128681e+07</td>\n",
       "    </tr>\n",
       "    <tr>\n",
       "      <th>3</th>\n",
       "      <td>Europe</td>\n",
       "      <td>1.931838e+07</td>\n",
       "    </tr>\n",
       "    <tr>\n",
       "      <th>4</th>\n",
       "      <td>Africa</td>\n",
       "      <td>1.718654e+07</td>\n",
       "    </tr>\n",
       "    <tr>\n",
       "      <th>5</th>\n",
       "      <td>North America</td>\n",
       "      <td>2.797245e+06</td>\n",
       "    </tr>\n",
       "    <tr>\n",
       "      <th>6</th>\n",
       "      <td>Australia</td>\n",
       "      <td>2.680252e+06</td>\n",
       "    </tr>\n",
       "  </tbody>\n",
       "</table>\n",
       "</div>"
      ],
      "text/plain": [
       "         continent       avg_pop\n",
       "0             Asia  9.841850e+07\n",
       "1  Central America  4.351613e+07\n",
       "2    South America  3.128681e+07\n",
       "3           Europe  1.931838e+07\n",
       "4           Africa  1.718654e+07\n",
       "5    North America  2.797245e+06\n",
       "6        Australia  2.680252e+06"
      ]
     },
     "execution_count": 22,
     "metadata": {},
     "output_type": "execute_result"
    }
   ],
   "source": [
    "#q18\n",
    "df_pop = pd.read_sql(\"select continent, avg(population) as avg_pop from countries_table group by 1 order by avg_pop desc\", conn)\n",
    "df_pop"
   ]
  },
  {
   "cell_type": "code",
   "execution_count": 23,
   "metadata": {},
   "outputs": [
    {
     "data": {
      "text/html": [
       "<div>\n",
       "<style scoped>\n",
       "    .dataframe tbody tr th:only-of-type {\n",
       "        vertical-align: middle;\n",
       "    }\n",
       "\n",
       "    .dataframe tbody tr th {\n",
       "        vertical-align: top;\n",
       "    }\n",
       "\n",
       "    .dataframe thead th {\n",
       "        text-align: right;\n",
       "    }\n",
       "</style>\n",
       "<table border=\"1\" class=\"dataframe\">\n",
       "  <thead>\n",
       "    <tr style=\"text-align: right;\">\n",
       "      <th></th>\n",
       "      <th>continent</th>\n",
       "      <th>num_countries</th>\n",
       "    </tr>\n",
       "  </thead>\n",
       "  <tbody>\n",
       "    <tr>\n",
       "      <th>0</th>\n",
       "      <td>Central America</td>\n",
       "      <td>11</td>\n",
       "    </tr>\n",
       "    <tr>\n",
       "      <th>1</th>\n",
       "      <td>Australia</td>\n",
       "      <td>12</td>\n",
       "    </tr>\n",
       "    <tr>\n",
       "      <th>2</th>\n",
       "      <td>South America</td>\n",
       "      <td>12</td>\n",
       "    </tr>\n",
       "    <tr>\n",
       "      <th>3</th>\n",
       "      <td>North America</td>\n",
       "      <td>13</td>\n",
       "    </tr>\n",
       "    <tr>\n",
       "      <th>4</th>\n",
       "      <td>Asia</td>\n",
       "      <td>38</td>\n",
       "    </tr>\n",
       "    <tr>\n",
       "      <th>5</th>\n",
       "      <td>Europe</td>\n",
       "      <td>41</td>\n",
       "    </tr>\n",
       "    <tr>\n",
       "      <th>6</th>\n",
       "      <td>Africa</td>\n",
       "      <td>48</td>\n",
       "    </tr>\n",
       "  </tbody>\n",
       "</table>\n",
       "</div>"
      ],
      "text/plain": [
       "         continent  num_countries\n",
       "0  Central America             11\n",
       "1        Australia             12\n",
       "2    South America             12\n",
       "3    North America             13\n",
       "4             Asia             38\n",
       "5           Europe             41\n",
       "6           Africa             48"
      ]
     },
     "execution_count": 23,
     "metadata": {},
     "output_type": "execute_result"
    }
   ],
   "source": [
    "#q19\n",
    "df_num_country = pd.read_sql(\"select continent, count(*) as  num_countries from countries_table group by 1 order by num_countries\", conn)\n",
    "df_num_country"
   ]
  },
  {
   "cell_type": "code",
   "execution_count": 24,
   "metadata": {},
   "outputs": [
    {
     "data": {
      "text/html": [
       "<div>\n",
       "<style scoped>\n",
       "    .dataframe tbody tr th:only-of-type {\n",
       "        vertical-align: middle;\n",
       "    }\n",
       "\n",
       "    .dataframe tbody tr th {\n",
       "        vertical-align: top;\n",
       "    }\n",
       "\n",
       "    .dataframe thead th {\n",
       "        text-align: right;\n",
       "    }\n",
       "</style>\n",
       "<table border=\"1\" class=\"dataframe\">\n",
       "  <thead>\n",
       "    <tr style=\"text-align: right;\">\n",
       "      <th></th>\n",
       "      <th>continent</th>\n",
       "      <th>avg_death_rate</th>\n",
       "    </tr>\n",
       "  </thead>\n",
       "  <tbody>\n",
       "    <tr>\n",
       "      <th>0</th>\n",
       "      <td>Africa</td>\n",
       "      <td>14.504792</td>\n",
       "    </tr>\n",
       "    <tr>\n",
       "      <th>1</th>\n",
       "      <td>Europe</td>\n",
       "      <td>10.258537</td>\n",
       "    </tr>\n",
       "  </tbody>\n",
       "</table>\n",
       "</div>"
      ],
      "text/plain": [
       "  continent  avg_death_rate\n",
       "0    Africa       14.504792\n",
       "1    Europe       10.258537"
      ]
     },
     "execution_count": 24,
     "metadata": {},
     "output_type": "execute_result"
    }
   ],
   "source": [
    "#q20\n",
    "result_df = pd.read_sql('select continent,avg(\"death-rate\") as avg_death_rate from countries_table group by 1 HAVING avg_death_rate >10', conn)\n",
    "result_df"
   ]
  },
  {
   "cell_type": "code",
   "execution_count": 25,
   "metadata": {},
   "outputs": [
    {
     "data": {
      "text/plain": [
       "Text(0,0.5,'avg population per country(millions)')"
      ]
     },
     "execution_count": 25,
     "metadata": {},
     "output_type": "execute_result"
    },
    {
     "data": {
      "image/png": "[encoded data removed]",
      "text/plain": [
       "<Figure size 432x288 with 1 Axes>"
      ]
     },
     "metadata": {},
     "output_type": "display_data"
    }
   ],
   "source": [
    "#q21\n",
    "df_pop_21 = pd.read_sql(\"select continent, avg(population) as avg_pop from countries_table group by 1 order by continent,population\", conn)\n",
    "df_pop_21.set_index([\"continent\"], inplace=True)\n",
    "df_pop_21['avg_pop'] = df_pop_21['avg_pop'].map(lambda x: x /1000000)\n",
    "df_pop_21.plot(kind='bar')\n",
    "plt.ylabel(\"avg population per country(millions)\")"
   ]
  },
  {
   "cell_type": "code",
   "execution_count": 26,
   "metadata": {},
   "outputs": [
    {
     "data": {
      "text/plain": [
       "Text(0,0.5,'number of countries')"
      ]
     },
     "execution_count": 26,
     "metadata": {},
     "output_type": "execute_result"
    },
    {
     "data": {
      "image/png": "[encoded data removed]",
      "text/plain": [
       "<Figure size 432x288 with 1 Axes>"
      ]
     },
     "metadata": {},
     "output_type": "display_data"
    }
   ],
   "source": [
    "#q22\n",
    "df_num_country_22 = pd.read_sql(\"select continent, count(*) as  num_countries from countries_table group by 1 order by continent\", conn)\n",
    "df_num_country_22.set_index([\"continent\"], inplace=True)\n",
    "df_num_country_22.plot(kind='bar')\n",
    "plt.ylabel(\"number of countries\")"
   ]
  },
  {
   "cell_type": "code",
   "execution_count": 27,
   "metadata": {},
   "outputs": [
    {
     "data": {
      "text/plain": [
       "Text(0,0.5,'dustance to nearest neighbour (miles)')"
      ]
     },
     "execution_count": 27,
     "metadata": {},
     "output_type": "execute_result"
    },
    {
     "data": {
      "image/png": "[encoded data removed]",
      "text/plain": [
       "<Figure size 432x288 with 1 Axes>"
      ]
     },
     "metadata": {},
     "output_type": "display_data"
    }
   ],
   "source": [
    "#q23\n",
    "del df_nearest['nearest']\n",
    "newdf = df_nearest.sort_index()\n",
    "\n",
    "#df.set_index([\"continent\"], inplace=True)\n",
    "newdf.plot(kind='bar')\n",
    "plt.ylabel('dustance to nearest neighbour (miles)')"
   ]
  },
  {
   "cell_type": "code",
   "execution_count": 28,
   "metadata": {},
   "outputs": [
    {
     "data": {
      "text/plain": [
       "Text(0,0.5,'population (millions)')"
      ]
     },
     "execution_count": 28,
     "metadata": {},
     "output_type": "execute_result"
    },
    {
     "data": {
      "image/png": "[encoded data removed]",
      "text/plain": [
       "<Figure size 432x288 with 1 Axes>"
      ]
     },
     "metadata": {},
     "output_type": "display_data"
    }
   ],
   "source": [
    "#q24\n",
    "usa_df = df_country[df_country.country=='United States']\n",
    "pop_now = usa_df['population'].tolist()[0]\n",
    "furture_list = []\n",
    "for i in range(15):\n",
    "    temp = [pop_now*((1+0.01)**i)/1000000, pop_now * ((1 + 0.05) ** i)/1000000, pop_now * ((1 + 0.1) ** i)/1000000]\n",
    "    furture_list.append(temp)\n",
    "\n",
    "newdf = pd.DataFrame(furture_list,index=range(15),columns=[0.01,0.05,0.1])\n",
    "\n",
    "newdf.plot(kind='line')\n",
    "plt.ylabel('population (millions)')"
   ]
  },
  {
   "cell_type": "code",
   "execution_count": 29,
   "metadata": {},
   "outputs": [
    {
     "data": {
      "text/html": [
       "<div>\n",
       "<style scoped>\n",
       "    .dataframe tbody tr th:only-of-type {\n",
       "        vertical-align: middle;\n",
       "    }\n",
       "\n",
       "    .dataframe tbody tr th {\n",
       "        vertical-align: top;\n",
       "    }\n",
       "\n",
       "    .dataframe thead th {\n",
       "        text-align: right;\n",
       "    }\n",
       "</style>\n",
       "<table border=\"1\" class=\"dataframe\">\n",
       "  <thead>\n",
       "    <tr style=\"text-align: right;\">\n",
       "      <th></th>\n",
       "      <th>area</th>\n",
       "      <th>birth-rate</th>\n",
       "      <th>coastline</th>\n",
       "      <th>death-rate</th>\n",
       "      <th>gdp-per-capita</th>\n",
       "      <th>infant-mortality</th>\n",
       "      <th>literacy</th>\n",
       "      <th>net-migration</th>\n",
       "      <th>phones</th>\n",
       "      <th>population</th>\n",
       "    </tr>\n",
       "  </thead>\n",
       "  <tbody>\n",
       "    <tr>\n",
       "      <th>area</th>\n",
       "      <td>1.000000</td>\n",
       "      <td>-0.108139</td>\n",
       "      <td>-0.098288</td>\n",
       "      <td>-0.002130</td>\n",
       "      <td>0.082266</td>\n",
       "      <td>-0.063257</td>\n",
       "      <td>0.066041</td>\n",
       "      <td>0.065235</td>\n",
       "      <td>0.109631</td>\n",
       "      <td>0.462874</td>\n",
       "    </tr>\n",
       "    <tr>\n",
       "      <th>birth-rate</th>\n",
       "      <td>-0.108139</td>\n",
       "      <td>1.000000</td>\n",
       "      <td>-0.122044</td>\n",
       "      <td>0.400378</td>\n",
       "      <td>-0.639507</td>\n",
       "      <td>0.868727</td>\n",
       "      <td>-0.792272</td>\n",
       "      <td>-0.086181</td>\n",
       "      <td>-0.731924</td>\n",
       "      <td>-0.063382</td>\n",
       "    </tr>\n",
       "    <tr>\n",
       "      <th>coastline</th>\n",
       "      <td>-0.098288</td>\n",
       "      <td>-0.122044</td>\n",
       "      <td>1.000000</td>\n",
       "      <td>-0.120772</td>\n",
       "      <td>0.148445</td>\n",
       "      <td>-0.156597</td>\n",
       "      <td>0.136546</td>\n",
       "      <td>0.109484</td>\n",
       "      <td>0.289311</td>\n",
       "      <td>-0.070195</td>\n",
       "    </tr>\n",
       "    <tr>\n",
       "      <th>death-rate</th>\n",
       "      <td>-0.002130</td>\n",
       "      <td>0.400378</td>\n",
       "      <td>-0.120772</td>\n",
       "      <td>1.000000</td>\n",
       "      <td>-0.209958</td>\n",
       "      <td>0.627801</td>\n",
       "      <td>-0.343025</td>\n",
       "      <td>0.044947</td>\n",
       "      <td>-0.253893</td>\n",
       "      <td>-0.054619</td>\n",
       "    </tr>\n",
       "    <tr>\n",
       "      <th>gdp-per-capita</th>\n",
       "      <td>0.082266</td>\n",
       "      <td>-0.639507</td>\n",
       "      <td>0.148445</td>\n",
       "      <td>-0.209958</td>\n",
       "      <td>1.000000</td>\n",
       "      <td>-0.628262</td>\n",
       "      <td>0.517995</td>\n",
       "      <td>0.451700</td>\n",
       "      <td>0.879161</td>\n",
       "      <td>-0.041405</td>\n",
       "    </tr>\n",
       "    <tr>\n",
       "      <th>infant-mortality</th>\n",
       "      <td>-0.063257</td>\n",
       "      <td>0.868727</td>\n",
       "      <td>-0.156597</td>\n",
       "      <td>0.627801</td>\n",
       "      <td>-0.628262</td>\n",
       "      <td>1.000000</td>\n",
       "      <td>-0.760859</td>\n",
       "      <td>-0.033321</td>\n",
       "      <td>-0.689914</td>\n",
       "      <td>0.000589</td>\n",
       "    </tr>\n",
       "    <tr>\n",
       "      <th>literacy</th>\n",
       "      <td>0.066041</td>\n",
       "      <td>-0.792272</td>\n",
       "      <td>0.136546</td>\n",
       "      <td>-0.343025</td>\n",
       "      <td>0.517995</td>\n",
       "      <td>-0.760859</td>\n",
       "      <td>1.000000</td>\n",
       "      <td>0.001542</td>\n",
       "      <td>0.594322</td>\n",
       "      <td>-0.037325</td>\n",
       "    </tr>\n",
       "    <tr>\n",
       "      <th>net-migration</th>\n",
       "      <td>0.065235</td>\n",
       "      <td>-0.086181</td>\n",
       "      <td>0.109484</td>\n",
       "      <td>0.044947</td>\n",
       "      <td>0.451700</td>\n",
       "      <td>-0.033321</td>\n",
       "      <td>0.001542</td>\n",
       "      <td>1.000000</td>\n",
       "      <td>0.343883</td>\n",
       "      <td>-0.004488</td>\n",
       "    </tr>\n",
       "    <tr>\n",
       "      <th>phones</th>\n",
       "      <td>0.109631</td>\n",
       "      <td>-0.731924</td>\n",
       "      <td>0.289311</td>\n",
       "      <td>-0.253893</td>\n",
       "      <td>0.879161</td>\n",
       "      <td>-0.689914</td>\n",
       "      <td>0.594322</td>\n",
       "      <td>0.343883</td>\n",
       "      <td>1.000000</td>\n",
       "      <td>-0.006100</td>\n",
       "    </tr>\n",
       "    <tr>\n",
       "      <th>population</th>\n",
       "      <td>0.462874</td>\n",
       "      <td>-0.063382</td>\n",
       "      <td>-0.070195</td>\n",
       "      <td>-0.054619</td>\n",
       "      <td>-0.041405</td>\n",
       "      <td>0.000589</td>\n",
       "      <td>-0.037325</td>\n",
       "      <td>-0.004488</td>\n",
       "      <td>-0.006100</td>\n",
       "      <td>1.000000</td>\n",
       "    </tr>\n",
       "  </tbody>\n",
       "</table>\n",
       "</div>"
      ],
      "text/plain": [
       "                      area  birth-rate  coastline  death-rate  gdp-per-capita  \\\n",
       "area              1.000000   -0.108139  -0.098288   -0.002130        0.082266   \n",
       "birth-rate       -0.108139    1.000000  -0.122044    0.400378       -0.639507   \n",
       "coastline        -0.098288   -0.122044   1.000000   -0.120772        0.148445   \n",
       "death-rate       -0.002130    0.400378  -0.120772    1.000000       -0.209958   \n",
       "gdp-per-capita    0.082266   -0.639507   0.148445   -0.209958        1.000000   \n",
       "infant-mortality -0.063257    0.868727  -0.156597    0.627801       -0.628262   \n",
       "literacy          0.066041   -0.792272   0.136546   -0.343025        0.517995   \n",
       "net-migration     0.065235   -0.086181   0.109484    0.044947        0.451700   \n",
       "phones            0.109631   -0.731924   0.289311   -0.253893        0.879161   \n",
       "population        0.462874   -0.063382  -0.070195   -0.054619       -0.041405   \n",
       "\n",
       "                  infant-mortality  literacy  net-migration    phones  \\\n",
       "area                     -0.063257  0.066041       0.065235  0.109631   \n",
       "birth-rate                0.868727 -0.792272      -0.086181 -0.731924   \n",
       "coastline                -0.156597  0.136546       0.109484  0.289311   \n",
       "death-rate                0.627801 -0.343025       0.044947 -0.253893   \n",
       "gdp-per-capita           -0.628262  0.517995       0.451700  0.879161   \n",
       "infant-mortality          1.000000 -0.760859      -0.033321 -0.689914   \n",
       "literacy                 -0.760859  1.000000       0.001542  0.594322   \n",
       "net-migration            -0.033321  0.001542       1.000000  0.343883   \n",
       "phones                   -0.689914  0.594322       0.343883  1.000000   \n",
       "population                0.000589 -0.037325      -0.004488 -0.006100   \n",
       "\n",
       "                  population  \n",
       "area                0.462874  \n",
       "birth-rate         -0.063382  \n",
       "coastline          -0.070195  \n",
       "death-rate         -0.054619  \n",
       "gdp-per-capita     -0.041405  \n",
       "infant-mortality    0.000589  \n",
       "literacy           -0.037325  \n",
       "net-migration      -0.004488  \n",
       "phones             -0.006100  \n",
       "population          1.000000  "
      ]
     },
     "execution_count": 29,
     "metadata": {},
     "output_type": "execute_result"
    }
   ],
   "source": [
    "#q25\n",
    "df_country.corr()"
   ]
  },
  {
   "cell_type": "code",
   "execution_count": 30,
   "metadata": {},
   "outputs": [
    {
     "data": {
      "text/plain": [
       "<matplotlib.axes._subplots.AxesSubplot at 0x119935a90>"
      ]
     },
     "execution_count": 30,
     "metadata": {},
     "output_type": "execute_result"
    },
    {
     "data": {
      "image/png": "[encoded data removed]",
      "text/plain": [
       "<Figure size 432x288 with 1 Axes>"
      ]
     },
     "metadata": {},
     "output_type": "display_data"
    }
   ],
   "source": [
    "#q26\n",
    "df_country.plot.scatter(x='literacy',y='phones')"
   ]
  },
  {
   "cell_type": "code",
   "execution_count": 31,
   "metadata": {},
   "outputs": [
    {
     "data": {
      "text/plain": [
       "<matplotlib.axes._subplots.AxesSubplot at 0x119ae6cf8>"
      ]
     },
     "execution_count": 31,
     "metadata": {},
     "output_type": "execute_result"
    },
    {
     "data": {
      "image/png": "[encoded data removed]",
      "text/plain": [
       "<Figure size 432x288 with 1 Axes>"
      ]
     },
     "metadata": {},
     "output_type": "display_data"
    }
   ],
   "source": [
    "#q27\n",
    "df_country.plot.scatter(x='literacy', y='birth-rate')"
   ]
  },
  {
   "cell_type": "code",
   "execution_count": 32,
   "metadata": {
    "scrolled": true
   },
   "outputs": [
    {
     "data": {
      "text/plain": [
       "<matplotlib.axes._subplots.AxesSubplot at 0x119b9acc0>"
      ]
     },
     "execution_count": 32,
     "metadata": {},
     "output_type": "execute_result"
    },
    {
     "data": {
      "image/png": "[encoded data removed]",
      "text/plain": [
       "<Figure size 432x288 with 1 Axes>"
      ]
     },
     "metadata": {},
     "output_type": "display_data"
    }
   ],
   "source": [
    "#q28\n",
    "df_country.plot.scatter(x='literacy', y='area',logy=True)"
   ]
  },
  {
   "cell_type": "code",
   "execution_count": 33,
   "metadata": {},
   "outputs": [
    {
     "data": {
      "text/plain": [
       "<matplotlib.axes._subplots.AxesSubplot at 0x11a1fc550>"
      ]
     },
     "execution_count": 33,
     "metadata": {},
     "output_type": "execute_result"
    },
    {
     "data": {
      "image/png": "[encoded data removed]",
      "text/plain": [
       "<Figure size 432x288 with 1 Axes>"
      ]
     },
     "metadata": {},
     "output_type": "display_data"
    }
   ],
   "source": [
    "#q29\n",
    "df_new= df_country[df_country.continent == 'Europe']\n",
    "df_new.plot.scatter(x='gdp-per-capita', y='infant-mortality')"
   ]
  },
  {
   "cell_type": "code",
   "execution_count": 34,
   "metadata": {},
   "outputs": [
    {
     "data": {
      "text/plain": [
       "<matplotlib.axes._subplots.AxesSubplot at 0x11a330710>"
      ]
     },
     "execution_count": 34,
     "metadata": {},
     "output_type": "execute_result"
    },
    {
     "data": {
      "image/png": "[encoded data removed]",
      "text/plain": [
       "<Figure size 432x288 with 1 Axes>"
      ]
     },
     "metadata": {},
     "output_type": "display_data"
    }
   ],
   "source": [
    "#q30\n",
    "europe = df_country.loc[df_country.continent == 'Europe']\n",
    "df_new_30 = Series(europe['gdp-per-capita'])\n",
    "df = Series(europe['infant-mortality'].rdiv(1))\n",
    "\n",
    "df_country= pd.DataFrame({'gdp-per-capita':df_new_30, '1/(infant-mortality)': df})\n",
    "df_country[\"1\"] = 1\n",
    "res = np.linalg.lstsq(df_country[[\"gdp-per-capita\", \"1\"]], df_country[\"1/(infant-mortality)\"], rcond=None)\n",
    "# res is a tuple: (COEFFICIENTS, VALUE, VALUE, VALUE)\n",
    "coefficients = res[0]  # coefficients is (m,n)\n",
    "m = coefficients[0]  # slope\n",
    "n = coefficients[1]  # intercept\n",
    "ax = df_country.plot.scatter(x='gdp-per-capita', y='1/(infant-mortality)', c='black', s=30, xlim=0, ylim=0)\n",
    "\n",
    "df_country[\"fit\"] = df_new[\"gdp-per-capita\"] * m + n\n",
    "df_country.plot.line(x='gdp-per-capita', y='fit', c='red', ax=ax)\n"
   ]
  },
  {
   "cell_type": "code",
   "execution_count": null,
   "metadata": {},
   "outputs": [],
   "source": []
  }
 ],
 "metadata": {
  "kernelspec": {
   "display_name": "Python 3",
   "language": "python",
   "name": "python3"
  },
  "language_info": {
   "codemirror_mode": {
    "name": "ipython",
    "version": 3
   },
   "file_extension": ".py",
   "mimetype": "text/x-python",
   "name": "python",
   "nbconvert_exporter": "python",
   "pygments_lexer": "ipython3",
   "version": "3.6.5"
  }
 },
 "nbformat": 4,
 "nbformat_minor": 1
}
