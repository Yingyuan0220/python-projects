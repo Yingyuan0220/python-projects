{
 "cells": [
  {
   "cell_type": "code",
   "execution_count": 1,
   "metadata": {},
   "outputs": [],
   "source": [
    "import pandas as pd\n",
    "import requests\n",
    "import sqlite3\n",
    "conn = sqlite3.connect('countries.db')\n",
    "%matplotlib inline \n",
    "import matplotlib.pyplot as plt\n",
    "import numpy as np"
   ]
  },
  {
   "cell_type": "code",
   "execution_count": 2,
   "metadata": {},
   "outputs": [
    {
     "name": "stdout",
     "output_type": "stream",
     "text": [
      "6279556636\n"
     ]
    }
   ],
   "source": [
    "#q1\n",
    "df_country = pd.read_json(\"https://tyler.caraza-harter.com/cs301/fall18/data/countries.json\")\n",
    "print(df_country['population'].sum())"
   ]
  },
  {
   "cell_type": "code",
   "execution_count": 3,
   "metadata": {},
   "outputs": [
    {
     "name": "stdout",
     "output_type": "stream",
     "text": [
      "['https://tyler.caraza-harter.com/cs301/fall18/data/capitals/ElSalvador.json', 'https://tyler.caraza-harter.com/cs301/fall18/data/capitals/Bulgaria.json', 'https://tyler.caraza-harter.com/cs301/fall18/data/capitals/Guatemala.json', 'https://tyler.caraza-harter.com/cs301/fall18/data/capitals/Morocco.json', 'https://tyler.caraza-harter.com/cs301/fall18/data/capitals/Belgium.json', 'https://tyler.caraza-harter.com/cs301/fall18/data/capitals/Turkey.json', 'https://tyler.caraza-harter.com/cs301/fall18/data/capitals/NewZealand.json', 'https://tyler.caraza-harter.com/cs301/fall18/data/capitals/CaymanIslands.json', 'https://tyler.caraza-harter.com/cs301/fall18/data/capitals/Libya.json', 'https://tyler.caraza-harter.com/cs301/fall18/data/capitals/Tonga.json', 'https://tyler.caraza-harter.com/cs301/fall18/data/capitals/Cameroon.json', 'https://tyler.caraza-harter.com/cs301/fall18/data/capitals/Luxembourg.json', 'https://tyler.caraza-harter.com/cs301/fall18/data/capitals/Rwanda.json', 'https://tyler.caraza-harter.com/cs301/fall18/data/capitals/Panama.json', 'https://tyler.caraza-harter.com/cs301/fall18/data/capitals/Cambodia.json', 'https://tyler.caraza-harter.com/cs301/fall18/data/capitals/Ukraine.json', 'https://tyler.caraza-harter.com/cs301/fall18/data/capitals/Eritrea.json', 'https://tyler.caraza-harter.com/cs301/fall18/data/capitals/Jordan.json', 'https://tyler.caraza-harter.com/cs301/fall18/data/capitals/Algeria.json', 'https://tyler.caraza-harter.com/cs301/fall18/data/capitals/SaintHelena.json', 'https://tyler.caraza-harter.com/cs301/fall18/data/capitals/Seychelles.json', 'https://tyler.caraza-harter.com/cs301/fall18/data/capitals/Italy.json', 'https://tyler.caraza-harter.com/cs301/fall18/data/capitals/Liechtenstein.json', 'https://tyler.caraza-harter.com/cs301/fall18/data/capitals/Mozambique.json', 'https://tyler.caraza-harter.com/cs301/fall18/data/capitals/Gabon.json', 'https://tyler.caraza-harter.com/cs301/fall18/data/capitals/Senegal.json', 'https://tyler.caraza-harter.com/cs301/fall18/data/capitals/Mauritius.json', 'https://tyler.caraza-harter.com/cs301/fall18/data/capitals/Barbados.json', 'https://tyler.caraza-harter.com/cs301/fall18/data/capitals/Mongolia.json', 'https://tyler.caraza-harter.com/cs301/fall18/data/capitals/Georgia.json', 'https://tyler.caraza-harter.com/cs301/fall18/data/capitals/Grenada.json', 'https://tyler.caraza-harter.com/cs301/fall18/data/capitals/Honduras.json', 'https://tyler.caraza-harter.com/cs301/fall18/data/capitals/SaintLucia.json', 'https://tyler.caraza-harter.com/cs301/fall18/data/capitals/Bermuda.json', 'https://tyler.caraza-harter.com/cs301/fall18/data/capitals/Uganda.json', 'https://tyler.caraza-harter.com/cs301/fall18/data/capitals/SaudiArabia.json', 'https://tyler.caraza-harter.com/cs301/fall18/data/capitals/Kyrgyzstan.json', 'https://tyler.caraza-harter.com/cs301/fall18/data/capitals/PuertoRico.json', 'https://tyler.caraza-harter.com/cs301/fall18/data/capitals/Austria.json', 'https://tyler.caraza-harter.com/cs301/fall18/data/capitals/Cuba.json', 'https://tyler.caraza-harter.com/cs301/fall18/data/capitals/Ghana.json', 'https://tyler.caraza-harter.com/cs301/fall18/data/capitals/Guyana.json', 'https://tyler.caraza-harter.com/cs301/fall18/data/capitals/UnitedKingdom.json', 'https://tyler.caraza-harter.com/cs301/fall18/data/capitals/Fiji.json', 'https://tyler.caraza-harter.com/cs301/fall18/data/capitals/Djibouti.json', 'https://tyler.caraza-harter.com/cs301/fall18/data/capitals/Bhutan.json', 'https://tyler.caraza-harter.com/cs301/fall18/data/capitals/Norway.json', 'https://tyler.caraza-harter.com/cs301/fall18/data/capitals/GuineaBissau.json', 'https://tyler.caraza-harter.com/cs301/fall18/data/capitals/Anguilla.json', 'https://tyler.caraza-harter.com/cs301/fall18/data/capitals/Syria.json', 'https://tyler.caraza-harter.com/cs301/fall18/data/capitals/Iran.json', 'https://tyler.caraza-harter.com/cs301/fall18/data/capitals/Laos.json', 'https://tyler.caraza-harter.com/cs301/fall18/data/capitals/EquatorialGuinea.json', 'https://tyler.caraza-harter.com/cs301/fall18/data/capitals/UnitedArabEmirates.json', 'https://tyler.caraza-harter.com/cs301/fall18/data/capitals/Liberia.json', 'https://tyler.caraza-harter.com/cs301/fall18/data/capitals/UnitedStates.json', 'https://tyler.caraza-harter.com/cs301/fall18/data/capitals/DominicanRepublic.json', 'https://tyler.caraza-harter.com/cs301/fall18/data/capitals/CapeVerde.json', 'https://tyler.caraza-harter.com/cs301/fall18/data/capitals/Moldova.json', 'https://tyler.caraza-harter.com/cs301/fall18/data/capitals/Belize.json', 'https://tyler.caraza-harter.com/cs301/fall18/data/capitals/Vanuatu.json', 'https://tyler.caraza-harter.com/cs301/fall18/data/capitals/PapuaNewGuinea.json', 'https://tyler.caraza-harter.com/cs301/fall18/data/capitals/Samoa.json', 'https://tyler.caraza-harter.com/cs301/fall18/data/capitals/Mali.json', 'https://tyler.caraza-harter.com/cs301/fall18/data/capitals/Nepal.json', 'https://tyler.caraza-harter.com/cs301/fall18/data/capitals/Chad.json', 'https://tyler.caraza-harter.com/cs301/fall18/data/capitals/SanMarino.json', 'https://tyler.caraza-harter.com/cs301/fall18/data/capitals/Kazakhstan.json', 'https://tyler.caraza-harter.com/cs301/fall18/data/capitals/Belarus.json', 'https://tyler.caraza-harter.com/cs301/fall18/data/capitals/Monaco.json', 'https://tyler.caraza-harter.com/cs301/fall18/data/capitals/SouthAfrica.json', 'https://tyler.caraza-harter.com/cs301/fall18/data/capitals/Malta.json', 'https://tyler.caraza-harter.com/cs301/fall18/data/capitals/Malawi.json', 'https://tyler.caraza-harter.com/cs301/fall18/data/capitals/SierraLeone.json', 'https://tyler.caraza-harter.com/cs301/fall18/data/capitals/CotedIvoire.json', 'https://tyler.caraza-harter.com/cs301/fall18/data/capitals/Pakistan.json', 'https://tyler.caraza-harter.com/cs301/fall18/data/capitals/Lebanon.json', 'https://tyler.caraza-harter.com/cs301/fall18/data/capitals/Paraguay.json', 'https://tyler.caraza-harter.com/cs301/fall18/data/capitals/Indonesia.json', 'https://tyler.caraza-harter.com/cs301/fall18/data/capitals/Tajikistan.json', 'https://tyler.caraza-harter.com/cs301/fall18/data/capitals/Portugal.json', 'https://tyler.caraza-harter.com/cs301/fall18/data/capitals/Colombia.json', 'https://tyler.caraza-harter.com/cs301/fall18/data/capitals/Taiwan.json', 'https://tyler.caraza-harter.com/cs301/fall18/data/capitals/Burundi.json', 'https://tyler.caraza-harter.com/cs301/fall18/data/capitals/Uruguay.json', 'https://tyler.caraza-harter.com/cs301/fall18/data/capitals/Botswana.json', 'https://tyler.caraza-harter.com/cs301/fall18/data/capitals/Latvia.json', 'https://tyler.caraza-harter.com/cs301/fall18/data/capitals/Azerbaijan.json', 'https://tyler.caraza-harter.com/cs301/fall18/data/capitals/FrenchPolynesia.json', 'https://tyler.caraza-harter.com/cs301/fall18/data/capitals/BurkinaFaso.json', 'https://tyler.caraza-harter.com/cs301/fall18/data/capitals/Vietnam.json', 'https://tyler.caraza-harter.com/cs301/fall18/data/capitals/Maldives.json', 'https://tyler.caraza-harter.com/cs301/fall18/data/capitals/Comoros.json', 'https://tyler.caraza-harter.com/cs301/fall18/data/capitals/Benin.json', 'https://tyler.caraza-harter.com/cs301/fall18/data/capitals/Canada.json', 'https://tyler.caraza-harter.com/cs301/fall18/data/capitals/Sweden.json', 'https://tyler.caraza-harter.com/cs301/fall18/data/capitals/Singapore.json', 'https://tyler.caraza-harter.com/cs301/fall18/data/capitals/Namibia.json', 'https://tyler.caraza-harter.com/cs301/fall18/data/capitals/Bangladesh.json', 'https://tyler.caraza-harter.com/cs301/fall18/data/capitals/Somalia.json', 'https://tyler.caraza-harter.com/cs301/fall18/data/capitals/Tanzania.json', 'https://tyler.caraza-harter.com/cs301/fall18/data/capitals/Ecuador.json', 'https://tyler.caraza-harter.com/cs301/fall18/data/capitals/Denmark.json', 'https://tyler.caraza-harter.com/cs301/fall18/data/capitals/Romania.json', 'https://tyler.caraza-harter.com/cs301/fall18/data/capitals/Togo.json', 'https://tyler.caraza-harter.com/cs301/fall18/data/capitals/Lithuania.json', 'https://tyler.caraza-harter.com/cs301/fall18/data/capitals/Thailand.json', 'https://tyler.caraza-harter.com/cs301/fall18/data/capitals/Jamaica.json', 'https://tyler.caraza-harter.com/cs301/fall18/data/capitals/Mexico.json', 'https://tyler.caraza-harter.com/cs301/fall18/data/capitals/Germany.json', 'https://tyler.caraza-harter.com/cs301/fall18/data/capitals/India.json', 'https://tyler.caraza-harter.com/cs301/fall18/data/capitals/Nicaragua.json', 'https://tyler.caraza-harter.com/cs301/fall18/data/capitals/SriLanka.json', 'https://tyler.caraza-harter.com/cs301/fall18/data/capitals/Guam.json', 'https://tyler.caraza-harter.com/cs301/fall18/data/capitals/Kenya.json', 'https://tyler.caraza-harter.com/cs301/fall18/data/capitals/Argentina.json', 'https://tyler.caraza-harter.com/cs301/fall18/data/capitals/Sudan.json', 'https://tyler.caraza-harter.com/cs301/fall18/data/capitals/Australia.json', 'https://tyler.caraza-harter.com/cs301/fall18/data/capitals/Qatar.json', 'https://tyler.caraza-harter.com/cs301/fall18/data/capitals/Swaziland.json', 'https://tyler.caraza-harter.com/cs301/fall18/data/capitals/Slovenia.json', 'https://tyler.caraza-harter.com/cs301/fall18/data/capitals/Russia.json', 'https://tyler.caraza-harter.com/cs301/fall18/data/capitals/Malaysia.json', 'https://tyler.caraza-harter.com/cs301/fall18/data/capitals/Netherlands.json', 'https://tyler.caraza-harter.com/cs301/fall18/data/capitals/Aruba.json', 'https://tyler.caraza-harter.com/cs301/fall18/data/capitals/Chile.json', 'https://tyler.caraza-harter.com/cs301/fall18/data/capitals/Poland.json', 'https://tyler.caraza-harter.com/cs301/fall18/data/capitals/Venezuela.json', 'https://tyler.caraza-harter.com/cs301/fall18/data/capitals/Philippines.json', 'https://tyler.caraza-harter.com/cs301/fall18/data/capitals/Bahrain.json', 'https://tyler.caraza-harter.com/cs301/fall18/data/capitals/Guinea.json', 'https://tyler.caraza-harter.com/cs301/fall18/data/capitals/Zimbabwe.json', 'https://tyler.caraza-harter.com/cs301/fall18/data/capitals/Bolivia.json', 'https://tyler.caraza-harter.com/cs301/fall18/data/capitals/Kuwait.json', 'https://tyler.caraza-harter.com/cs301/fall18/data/capitals/Hungary.json', 'https://tyler.caraza-harter.com/cs301/fall18/data/capitals/Israel.json', 'https://tyler.caraza-harter.com/cs301/fall18/data/capitals/France.json', 'https://tyler.caraza-harter.com/cs301/fall18/data/capitals/Albania.json', 'https://tyler.caraza-harter.com/cs301/fall18/data/capitals/Armenia.json', 'https://tyler.caraza-harter.com/cs301/fall18/data/capitals/Estonia.json', 'https://tyler.caraza-harter.com/cs301/fall18/data/capitals/Brazil.json', 'https://tyler.caraza-harter.com/cs301/fall18/data/capitals/Mauritania.json', 'https://tyler.caraza-harter.com/cs301/fall18/data/capitals/Switzerland.json', 'https://tyler.caraza-harter.com/cs301/fall18/data/capitals/Croatia.json', 'https://tyler.caraza-harter.com/cs301/fall18/data/capitals/Egypt.json', 'https://tyler.caraza-harter.com/cs301/fall18/data/capitals/Yemen.json', 'https://tyler.caraza-harter.com/cs301/fall18/data/capitals/Finland.json', 'https://tyler.caraza-harter.com/cs301/fall18/data/capitals/Ethiopia.json', 'https://tyler.caraza-harter.com/cs301/fall18/data/capitals/CzechRepublic.json', 'https://tyler.caraza-harter.com/cs301/fall18/data/capitals/Lesotho.json', 'https://tyler.caraza-harter.com/cs301/fall18/data/capitals/Madagascar.json', 'https://tyler.caraza-harter.com/cs301/fall18/data/capitals/Turkmenistan.json', 'https://tyler.caraza-harter.com/cs301/fall18/data/capitals/Uzbekistan.json', 'https://tyler.caraza-harter.com/cs301/fall18/data/capitals/SaintVincentandtheGrenadines.json', 'https://tyler.caraza-harter.com/cs301/fall18/data/capitals/Dominica.json', 'https://tyler.caraza-harter.com/cs301/fall18/data/capitals/Tunisia.json', 'https://tyler.caraza-harter.com/cs301/fall18/data/capitals/Niger.json', 'https://tyler.caraza-harter.com/cs301/fall18/data/capitals/Ireland.json', 'https://tyler.caraza-harter.com/cs301/fall18/data/capitals/Haiti.json', 'https://tyler.caraza-harter.com/cs301/fall18/data/capitals/Peru.json', 'https://tyler.caraza-harter.com/cs301/fall18/data/capitals/Palau.json', 'https://tyler.caraza-harter.com/cs301/fall18/data/capitals/Iraq.json', 'https://tyler.caraza-harter.com/cs301/fall18/data/capitals/MarshallIslands.json', 'https://tyler.caraza-harter.com/cs301/fall18/data/capitals/Oman.json', 'https://tyler.caraza-harter.com/cs301/fall18/data/capitals/Afghanistan.json', 'https://tyler.caraza-harter.com/cs301/fall18/data/capitals/Suriname.json', 'https://tyler.caraza-harter.com/cs301/fall18/data/capitals/Iceland.json', 'https://tyler.caraza-harter.com/cs301/fall18/data/capitals/Spain.json', 'https://tyler.caraza-harter.com/cs301/fall18/data/capitals/Greece.json', 'https://tyler.caraza-harter.com/cs301/fall18/data/capitals/China.json', 'https://tyler.caraza-harter.com/cs301/fall18/data/capitals/Japan.json', 'https://tyler.caraza-harter.com/cs301/fall18/data/capitals/NewCaledonia.json', 'https://tyler.caraza-harter.com/cs301/fall18/data/capitals/CostaRica.json', 'https://tyler.caraza-harter.com/cs301/fall18/data/capitals/Zambia.json', 'https://tyler.caraza-harter.com/cs301/fall18/data/capitals/Nigeria.json']\n"
     ]
    }
   ],
   "source": [
    "#q2\n",
    "capitals = requests.get('https://tyler.caraza-harter.com/cs301/fall18/data/capitals.txt')\n",
    "capital_list = capitals.text.split('\\n')\n",
    "print(capital_list)"
   ]
  },
  {
   "cell_type": "code",
   "execution_count": 4,
   "metadata": {},
   "outputs": [
    {
     "name": "stdout",
     "output_type": "stream",
     "text": [
      "Beijing\n"
     ]
    }
   ],
   "source": [
    "#q3\n",
    "newlist = []\n",
    "for url in capital_list:\n",
    "    result = requests.get(url).json()\n",
    "    cap = result['capital']\n",
    "    cou = result['country']\n",
    "    lat = result['latitude']\n",
    "    lon = result['longitude']\n",
    "    newlist.append([url,cap,cou,lat,lon])\n",
    "\n",
    "df_capital = pd.DataFrame(newlist,columns=['url','capital', 'country','latitude','longitude'])\n",
    "for index,row in df_capital.iterrows():\n",
    "    if row['country'] == 'China':\n",
    "        print(row['capital'])"
   ]
  },
  {
   "cell_type": "code",
   "execution_count": 5,
   "metadata": {},
   "outputs": [
    {
     "name": "stdout",
     "output_type": "stream",
     "text": [
      "                                                 url         capital  \\\n",
      "0  https://tyler.caraza-harter.com/cs301/fall18/d...    San Salvador   \n",
      "1  https://tyler.caraza-harter.com/cs301/fall18/d...           Sofia   \n",
      "2  https://tyler.caraza-harter.com/cs301/fall18/d...  Guatemala City   \n",
      "3  https://tyler.caraza-harter.com/cs301/fall18/d...           Rabat   \n",
      "4  https://tyler.caraza-harter.com/cs301/fall18/d...        Brussels   \n",
      "\n",
      "       country   latitude  longitude  \n",
      "0  El Salvador  13.700000 -89.200000  \n",
      "1     Bulgaria  42.683333  23.316667  \n",
      "2    Guatemala  14.616667 -90.516667  \n",
      "3      Morocco  34.016667  -6.816667  \n",
      "4      Belgium  50.833333   4.333333  \n"
     ]
    }
   ],
   "source": [
    "#q4\n",
    "df_capital.sort_values(by=['latitude'])\n",
    "print(df_capital.head())"
   ]
  },
  {
   "cell_type": "code",
   "execution_count": 6,
   "metadata": {},
   "outputs": [
    {
     "name": "stdout",
     "output_type": "stream",
     "text": [
      "                                                   url    capital  country  \\\n",
      "166  https://tyler.caraza-harter.com/cs301/fall18/d...  Reykjavik  Iceland   \n",
      "146  https://tyler.caraza-harter.com/cs301/fall18/d...   Helsinki  Finland   \n",
      "46   https://tyler.caraza-harter.com/cs301/fall18/d...       Oslo   Norway   \n",
      "\n",
      "      latitude  longitude  \n",
      "166  64.150000 -21.950000  \n",
      "146  60.166667  24.933333  \n",
      "46   59.916667  10.750000  \n"
     ]
    }
   ],
   "source": [
    "#q5\n",
    "df_capital = df_capital.sort_values(by=['latitude'],ascending=False)\n",
    "print(df_capital.head(3))"
   ]
  },
  {
   "cell_type": "code",
   "execution_count": 7,
   "metadata": {},
   "outputs": [
    {
     "name": "stdout",
     "output_type": "stream",
     "text": [
      "         latitude   longitude\n",
      "count  175.000000  175.000000\n",
      "mean    18.450381   15.739619\n",
      "std     24.753747   66.408924\n",
      "min    -41.300000 -175.200000\n",
      "25%      4.383333  -14.641666\n",
      "50%     17.250000   19.083333\n",
      "75%     39.400000   47.108334\n",
      "max     64.150000  178.416667\n"
     ]
    }
   ],
   "source": [
    "#q6\n",
    "print(df_capital.describe())"
   ]
  },
  {
   "cell_type": "code",
   "execution_count": 8,
   "metadata": {},
   "outputs": [
    {
     "name": "stdout",
     "output_type": "stream",
     "text": [
      "               area  birth-rate   coastline  death-rate  gdp-per-capita  \\\n",
      "count  1.750000e+02  175.000000  175.000000  175.000000      175.000000   \n",
      "mean   7.285332e+05   22.536114   10.833657    9.654971     9781.714286   \n",
      "std    2.005565e+06   11.287090   38.245751    5.187216    10612.928974   \n",
      "min    2.000000e+00    8.250000    0.000000    2.410000      500.000000   \n",
      "25%    2.779000e+04   12.635000    0.090000    6.075000     1900.000000   \n",
      "50%    1.431000e+05   20.340000    0.440000    8.230000     5100.000000   \n",
      "75%    5.209850e+05   30.200000    3.150000   11.965000    14450.000000   \n",
      "max    1.707520e+07   50.730000  331.660000   29.740000    55100.000000   \n",
      "\n",
      "       infant-mortality    literacy  net-migration       phones    population  \n",
      "count        175.000000  175.000000     175.000000   175.000000  1.750000e+02  \n",
      "mean          38.052743   82.182286       0.123314   214.621143  3.588318e+07  \n",
      "std           35.369320   20.086897       4.466356   218.613971  1.333418e+08  \n",
      "min            2.290000   17.600000     -13.920000     1.300000  7.502000e+03  \n",
      "25%            8.550000   69.950000      -0.905000    31.300000  2.033239e+06  \n",
      "50%           24.180000   92.000000       0.000000   140.100000  7.523934e+06  \n",
      "75%           62.155000   98.000000       0.770000   329.700000  2.272283e+07  \n",
      "max          163.070000  100.000000      23.060000  1035.600000  1.313974e+09  \n"
     ]
    }
   ],
   "source": [
    "#q7\n",
    "df_country['literacy'] = df_country['literacy'].str.replace(\",\",\".\").astype('float64')\n",
    "df_country['phones'] = df_country['phones'].str.replace(\",\", \".\").astype('float64')\n",
    "print(df_country.describe())"
   ]
  },
  {
   "cell_type": "code",
   "execution_count": 9,
   "metadata": {},
   "outputs": [
    {
     "name": "stdout",
     "output_type": "stream",
     "text": [
      "14.02\n"
     ]
    }
   ],
   "source": [
    "#q8\n",
    "newdf = df_country[(df_country.continent=='Europe') & ( df_country.coastline == 0.0)].sort_values('area',ascending=False)\n",
    "print(newdf.iat[0,5])"
   ]
  },
  {
   "cell_type": "code",
   "execution_count": 10,
   "metadata": {},
   "outputs": [
    {
     "name": "stdout",
     "output_type": "stream",
     "text": [
      "16.38\n"
     ]
    }
   ],
   "source": [
    "#q9\n",
    "newdf = df_country[(df_country.continent == 'Africa') & (df_country.coastline == 0.0)].sort_values('area', ascending=False)\n",
    "print(newdf.iat[0, 5])"
   ]
  },
  {
   "cell_type": "code",
   "execution_count": 11,
   "metadata": {},
   "outputs": [
    {
     "name": "stdout",
     "output_type": "stream",
     "text": [
      "7.53\n"
     ]
    }
   ],
   "source": [
    "#q10\n",
    "newdf = df_country[(df_country.continent == 'South America') & (df_country.coastline == 0.0)].sort_values('area', ascending=False)\n",
    "print(newdf.iat[0, 5])"
   ]
  },
  {
   "cell_type": "code",
   "execution_count": 12,
   "metadata": {},
   "outputs": [],
   "source": [
    "def Haversine(lon1, lat1, lon2, lat2):\n",
    "    from math import radians, cos, sin, asin, sqrt\n",
    "    lon1, lat1, lon2, lat2 = map(radians, [lon1, lat1, lon2, lat2])\n",
    "    dlon = lon2 - lon1\n",
    "    dlat = lat2 - lat1\n",
    "    a = sin(dlat / 2) ** 2 + cos(lat1) * cos(lat2) * sin(dlon / 2) ** 2\n",
    "    c = 2 * asin(sqrt(a))\n",
    "    r = 3956\n",
    "    return c * r"
   ]
  },
  {
   "cell_type": "code",
   "execution_count": 13,
   "metadata": {},
   "outputs": [
    {
     "name": "stdout",
     "output_type": "stream",
     "text": [
      "1.433899492072933\n"
     ]
    }
   ],
   "source": [
    "#q11\n",
    "print(Haversine(-89.411893,43.070231,-89.384113,43.074645,))"
   ]
  },
  {
   "cell_type": "code",
   "execution_count": 14,
   "metadata": {},
   "outputs": [
    {
     "name": "stdout",
     "output_type": "stream",
     "text": [
      "8840.574141306946\n"
     ]
    }
   ],
   "source": [
    "#q12\n",
    "lon1 = df_capital.set_index('country').loc['India'].longitude\n",
    "lat1 = df_capital.set_index('country').loc['India'].latitude\n",
    "lon2 = df_capital.set_index('country').loc['Brazil'].longitude\n",
    "lat2 = df_capital.set_index('country').loc['Brazil'].latitude\n",
    "print(Haversine(lon1,lat1,lon2,lat2))"
   ]
  },
  {
   "cell_type": "code",
   "execution_count": 15,
   "metadata": {},
   "outputs": [
    {
     "name": "stdout",
     "output_type": "stream",
     "text": [
      "                 Chile       Guyana     Colombia     Suriname       Brazil  \\\n",
      "Chile              NaN  2897.553095  2636.644599  2895.810776  1869.737031   \n",
      "Guyana     2897.553095          NaN  1105.066312   215.336336  1709.071018   \n",
      "Colombia   2636.644599  1105.066312          NaN  1303.405134  2275.516286   \n",
      "Suriname   2895.810776   215.336336  1303.405134          NaN  1572.674233   \n",
      "Brazil     1869.737031  1709.071018  2275.516286  1572.674233          NaN   \n",
      "Bolivia    1180.741903  1747.772670  1512.119255  1778.772975  1342.297074   \n",
      "Venezuela  3043.657689   646.969843   639.361118   861.456786  2228.690680   \n",
      "Argentina   690.784168  2857.520462  2885.355610  2799.886429  1459.139733   \n",
      "Peru       1531.480189  1837.860149  1167.505359  1944.750017  1967.770515   \n",
      "Ecuador    2350.207788  1483.193753   451.004119  1661.699022  2344.584922   \n",
      "Uruguay     833.403262  2878.638295  2962.230943  2809.744412  1412.096335   \n",
      "Paraguay    963.635535  2214.288286  2337.615967  2153.855447   908.185709   \n",
      "\n",
      "               Bolivia    Venezuela    Argentina         Peru      Ecuador  \\\n",
      "Chile      1180.741903  3043.657689   690.784168  1531.480189  2350.207788   \n",
      "Guyana     1747.772670   646.969843  2857.520462  1837.860149  1483.193753   \n",
      "Colombia   1512.119255   639.361118  2885.355610  1167.505359   451.004119   \n",
      "Suriname   1778.772975   861.456786  2799.886429  1944.750017  1661.699022   \n",
      "Brazil     1342.297074  2228.690680  1459.139733  1967.770515  2344.584922   \n",
      "Bolivia            NaN  1865.131181  1379.455702   669.926372  1326.758656   \n",
      "Venezuela  1865.131181          NaN  3157.624051  1705.418003  1088.064118   \n",
      "Argentina  1379.455702  3157.624051          NaN  1936.465790  2696.149591   \n",
      "Peru        669.926372  1705.418003  1936.465790          NaN   823.054491   \n",
      "Ecuador    1326.758656  1088.064118  2696.149591   823.054491          NaN   \n",
      "Uruguay    1467.253638  3207.352176   143.069943  2046.571589  2791.196721   \n",
      "Paraguay    906.799256  2544.799572   646.036442  1558.635236  2218.650964   \n",
      "\n",
      "               Uruguay     Paraguay  \n",
      "Chile       833.403262   963.635535  \n",
      "Guyana     2878.638295  2214.288286  \n",
      "Colombia   2962.230943  2337.615967  \n",
      "Suriname   2809.744412  2153.855447  \n",
      "Brazil     1412.096335   908.185709  \n",
      "Bolivia    1467.253638   906.799256  \n",
      "Venezuela  3207.352176  2544.799572  \n",
      "Argentina   143.069943   646.036442  \n",
      "Peru       2046.571589  1558.635236  \n",
      "Ecuador    2791.196721  2218.650964  \n",
      "Uruguay            NaN   667.699386  \n",
      "Paraguay    667.699386          NaN  \n"
     ]
    }
   ],
   "source": [
    "#13\n",
    "df_target = df_country[df_country.continent=='South America']\n",
    "countries = []\n",
    "for index,row in df_target.iterrows():\n",
    "    countries.append(row['country'])\n",
    "\n",
    "\n",
    "dist=[]\n",
    "\n",
    "\n",
    "\n",
    "for i in range(len(countries)):\n",
    "\n",
    "    country1 = countries[i]\n",
    "    temp = []\n",
    "    lon1 = df_capital.set_index('country').loc[country1].longitude\n",
    "    lat1 = df_capital.set_index('country').loc[country1].latitude\n",
    "    for j in range(len(countries)):\n",
    "        country2 = countries[j]\n",
    "        lon2 = df_capital.set_index('country').loc[country2].longitude\n",
    "        lat2 = df_capital.set_index('country').loc[country2].latitude\n",
    "        if i==j:\n",
    "            temp.append(None)\n",
    "        else:\n",
    "            temp.append(Haversine(lon1,lat1,lon2,lat2))\n",
    "    dist.append(temp)\n",
    "\n",
    "df_dist =pd.DataFrame(dist,index = countries,columns=countries)\n",
    "print(df_dist)"
   ]
  },
  {
   "cell_type": "code",
   "execution_count": 16,
   "metadata": {},
   "outputs": [
    {
     "name": "stdout",
     "output_type": "stream",
     "text": [
      "Bolivia\n"
     ]
    }
   ],
   "source": [
    "#14\n",
    "print(df_dist.mean(0,skipna = True).sort_values().index[0])"
   ]
  },
  {
   "cell_type": "code",
   "execution_count": 17,
   "metadata": {},
   "outputs": [
    {
     "name": "stdout",
     "output_type": "stream",
     "text": [
      "             nearest    distance\n",
      "Chile      Argentina  690.784168\n",
      "Guyana      Suriname  215.336336\n",
      "Colombia     Ecuador  451.004119\n",
      "Suriname      Guyana  215.336336\n",
      "Brazil      Paraguay  908.185709\n",
      "Bolivia         Peru  669.926372\n",
      "Venezuela   Colombia  639.361118\n",
      "Argentina    Uruguay  143.069943\n",
      "Peru         Bolivia  669.926372\n",
      "Ecuador     Colombia  451.004119\n",
      "Uruguay    Argentina  143.069943\n",
      "Paraguay   Argentina  646.036442\n"
     ]
    }
   ],
   "source": [
    "#15\n",
    "ss_idx = df_dist.idxmin(skipna = True)\n",
    "ret = []\n",
    "ss_val = df_dist.min(skipna = True)\n",
    "for i in range(len(ss_idx.keys())):\n",
    "    index = ss_idx[i]\n",
    "    value = ss_val[i]\n",
    "    ret.append([index,value])\n",
    "df_nearest = pd.DataFrame(ret,columns=['nearest','distance'], index=ss_idx.keys())\n",
    "print(df_nearest )"
   ]
  },
  {
   "cell_type": "code",
   "execution_count": 18,
   "metadata": {},
   "outputs": [],
   "source": [
    "df_country.to_sql(\"countries_table\", conn, if_exists=\"replace\", index=False)"
   ]
  },
  {
   "cell_type": "code",
   "execution_count": 19,
   "metadata": {},
   "outputs": [
    {
     "name": "stdout",
     "output_type": "stream",
     "text": [
      "          country\n",
      "0         Bermuda\n",
      "1        Anguilla\n",
      "2         Grenada\n",
      "3        Dominica\n",
      "4           Aruba\n",
      "5  Cayman Islands\n"
     ]
    }
   ],
   "source": [
    "#16\n",
    "result_df = pd.read_sql(\"select country from countries_table where continent='North America' and population <=100000\", conn)\n",
    "print(result_df)"
   ]
  },
  {
   "cell_type": "code",
   "execution_count": 20,
   "metadata": {},
   "outputs": [
    {
     "name": "stdout",
     "output_type": "stream",
     "text": [
      "   country\n",
      "0   Russia\n",
      "1  Germany\n",
      "2   Turkey\n"
     ]
    }
   ],
   "source": [
    "#17\n",
    "result_df = pd.read_sql(\"select country from countries_table where continent='Europe' order by population desc\", conn)\n",
    "print(result_df.head(3))"
   ]
  },
  {
   "cell_type": "code",
   "execution_count": 21,
   "metadata": {},
   "outputs": [
    {
     "name": "stdout",
     "output_type": "stream",
     "text": [
      "         continent       avg_pop\n",
      "0           Africa  1.718654e+07\n",
      "1             Asia  9.841850e+07\n",
      "2        Australia  2.680252e+06\n",
      "3  Central America  4.351613e+07\n",
      "4           Europe  1.931838e+07\n"
     ]
    }
   ],
   "source": [
    "#18\n",
    "df_pop = pd.read_sql(\"select continent, avg(population) as avg_pop from countries_table group by 1\", conn)\n",
    "print(df_pop.head())"
   ]
  },
  {
   "cell_type": "code",
   "execution_count": 22,
   "metadata": {},
   "outputs": [
    {
     "name": "stdout",
     "output_type": "stream",
     "text": [
      "         continent  num_countries\n",
      "0           Africa             48\n",
      "1             Asia             38\n",
      "2        Australia             12\n",
      "3  Central America             11\n",
      "4           Europe             41\n",
      "5    North America             13\n",
      "6    South America             12\n"
     ]
    }
   ],
   "source": [
    "#q19\n",
    "df_num_country = pd.read_sql(\"select continent, count(*) as  num_countries from countries_table group by 1\", conn)\n",
    "print(df_num_country)"
   ]
  },
  {
   "cell_type": "code",
   "execution_count": 23,
   "metadata": {},
   "outputs": [
    {
     "name": "stdout",
     "output_type": "stream",
     "text": [
      "  continent  avg_death_rate\n",
      "0    Africa       14.504792\n",
      "1    Europe       10.258537\n"
     ]
    }
   ],
   "source": [
    "#20\n",
    "result_df = pd.read_sql('select continent,avg(\"death-rate\") as avg_death_rate from countries_table group by 1 HAVING avg_death_rate >10', conn)\n",
    "print(result_df)"
   ]
  },
  {
   "cell_type": "code",
   "execution_count": 24,
   "metadata": {},
   "outputs": [
    {
     "data": {
      "text/plain": [
       "Text(0,0.5,'avg population per country(millions)')"
      ]
     },
     "execution_count": 24,
     "metadata": {},
     "output_type": "execute_result"
    },
    {
     "data": {
      "image/png": "[encoded data removed]",
      "text/plain": [
       "<Figure size 432x288 with 1 Axes>"
      ]
     },
     "metadata": {},
     "output_type": "display_data"
    }
   ],
   "source": [
    "df_pop.set_index([\"continent\"], inplace=True)\n",
    "df_pop['avg_pop'] = df_pop['avg_pop'].map(lambda x: x /1000000)\n",
    "df_pop.plot(kind='bar')\n",
    "plt.ylabel(\"avg population per country(millions)\")"
   ]
  },
  {
   "cell_type": "code",
   "execution_count": 25,
   "metadata": {},
   "outputs": [
    {
     "data": {
      "text/plain": [
       "Text(0,0.5,'number of countries')"
      ]
     },
     "execution_count": 25,
     "metadata": {},
     "output_type": "execute_result"
    },
    {
     "data": {
      "image/png": "[encoded data removed]",
      "text/plain": [
       "<Figure size 432x288 with 1 Axes>"
      ]
     },
     "metadata": {},
     "output_type": "display_data"
    }
   ],
   "source": [
    "#22\n",
    "df_num_country.set_index([\"continent\"], inplace=True)\n",
    "df_num_country.plot(kind='bar')\n",
    "plt.ylabel(\"number of countries\")"
   ]
  },
  {
   "cell_type": "code",
   "execution_count": 26,
   "metadata": {},
   "outputs": [
    {
     "data": {
      "text/plain": [
       "Text(0,0.5,'dustance to nearest neighbour (miles)')"
      ]
     },
     "execution_count": 26,
     "metadata": {},
     "output_type": "execute_result"
    },
    {
     "data": {
      "image/png": "[encoded data removed]",
      "text/plain": [
       "<Figure size 432x288 with 1 Axes>"
      ]
     },
     "metadata": {},
     "output_type": "display_data"
    }
   ],
   "source": [
    "#23\n",
    "del df_nearest['nearest']\n",
    "newdf = df_nearest.sort_index()\n",
    "\n",
    "#df.set_index([\"continent\"], inplace=True)\n",
    "newdf.plot(kind='bar')\n",
    "plt.ylabel('dustance to nearest neighbour (miles)')"
   ]
  },
  {
   "cell_type": "code",
   "execution_count": 27,
   "metadata": {},
   "outputs": [
    {
     "data": {
      "text/plain": [
       "Text(0,0.5,'population (millions)')"
      ]
     },
     "execution_count": 27,
     "metadata": {},
     "output_type": "execute_result"
    },
    {
     "data": {
      "image/png": "[encoded data removed]",
      "text/plain": [
       "<Figure size 432x288 with 1 Axes>"
      ]
     },
     "metadata": {},
     "output_type": "display_data"
    }
   ],
   "source": [
    "#24\n",
    "usa_df = df_country[df_country.country=='United States']\n",
    "pop_now = usa_df['population'].tolist()[0]\n",
    "furture_list = []\n",
    "for i in range(15):\n",
    "    temp = [pop_now*((1+0.01)**i)/1000000, pop_now * ((1 + 0.05) ** i)/1000000, pop_now * ((1 + 0.1) ** i)/1000000]\n",
    "    furture_list.append(temp)\n",
    "\n",
    "newdf = pd.DataFrame(furture_list,index=range(15),columns=[0.01,0.05,0.1])\n",
    "\n",
    "newdf.plot(kind='line')\n",
    "plt.ylabel('population (millions)')"
   ]
  },
  {
   "cell_type": "code",
   "execution_count": 28,
   "metadata": {},
   "outputs": [
    {
     "name": "stdout",
     "output_type": "stream",
     "text": [
      "                      area  birth-rate  coastline  death-rate  gdp-per-capita  \\\n",
      "area              1.000000   -0.108139  -0.098288   -0.002130        0.082266   \n",
      "birth-rate       -0.108139    1.000000  -0.122044    0.400378       -0.639507   \n",
      "coastline        -0.098288   -0.122044   1.000000   -0.120772        0.148445   \n",
      "death-rate       -0.002130    0.400378  -0.120772    1.000000       -0.209958   \n",
      "gdp-per-capita    0.082266   -0.639507   0.148445   -0.209958        1.000000   \n",
      "infant-mortality -0.063257    0.868727  -0.156597    0.627801       -0.628262   \n",
      "literacy          0.066041   -0.792272   0.136546   -0.343025        0.517995   \n",
      "net-migration     0.065235   -0.086181   0.109484    0.044947        0.451700   \n",
      "phones            0.109631   -0.731924   0.289311   -0.253893        0.879161   \n",
      "population        0.462874   -0.063382  -0.070195   -0.054619       -0.041405   \n",
      "\n",
      "                  infant-mortality  literacy  net-migration    phones  \\\n",
      "area                     -0.063257  0.066041       0.065235  0.109631   \n",
      "birth-rate                0.868727 -0.792272      -0.086181 -0.731924   \n",
      "coastline                -0.156597  0.136546       0.109484  0.289311   \n",
      "death-rate                0.627801 -0.343025       0.044947 -0.253893   \n",
      "gdp-per-capita           -0.628262  0.517995       0.451700  0.879161   \n",
      "infant-mortality          1.000000 -0.760859      -0.033321 -0.689914   \n",
      "literacy                 -0.760859  1.000000       0.001542  0.594322   \n",
      "net-migration            -0.033321  0.001542       1.000000  0.343883   \n",
      "phones                   -0.689914  0.594322       0.343883  1.000000   \n",
      "population                0.000589 -0.037325      -0.004488 -0.006100   \n",
      "\n",
      "                  population  \n",
      "area                0.462874  \n",
      "birth-rate         -0.063382  \n",
      "coastline          -0.070195  \n",
      "death-rate         -0.054619  \n",
      "gdp-per-capita     -0.041405  \n",
      "infant-mortality    0.000589  \n",
      "literacy           -0.037325  \n",
      "net-migration      -0.004488  \n",
      "phones             -0.006100  \n",
      "population          1.000000  \n"
     ]
    }
   ],
   "source": [
    "#25\n",
    "print(df_country.corr())"
   ]
  },
  {
   "cell_type": "code",
   "execution_count": 29,
   "metadata": {},
   "outputs": [
    {
     "data": {
      "text/plain": [
       "<matplotlib.axes._subplots.AxesSubplot at 0x11990b780>"
      ]
     },
     "execution_count": 29,
     "metadata": {},
     "output_type": "execute_result"
    },
    {
     "data": {
      "image/png": "[encoded data removed]",
      "text/plain": [
       "<Figure size 432x288 with 1 Axes>"
      ]
     },
     "metadata": {},
     "output_type": "display_data"
    }
   ],
   "source": [
    "#q26\n",
    "df_country.plot.scatter(x='literacy',y='phones')"
   ]
  },
  {
   "cell_type": "code",
   "execution_count": 30,
   "metadata": {},
   "outputs": [
    {
     "data": {
      "text/plain": [
       "<matplotlib.axes._subplots.AxesSubplot at 0x11fd29780>"
      ]
     },
     "execution_count": 30,
     "metadata": {},
     "output_type": "execute_result"
    },
    {
     "data": {
      "image/png": "[encoded data removed]",
      "text/plain": [
       "<Figure size 432x288 with 1 Axes>"
      ]
     },
     "metadata": {},
     "output_type": "display_data"
    }
   ],
   "source": [
    "#q27\n",
    "df_country.plot.scatter(x='literacy', y='birth-rate')"
   ]
  },
  {
   "cell_type": "code",
   "execution_count": 31,
   "metadata": {},
   "outputs": [
    {
     "data": {
      "text/plain": [
       "<matplotlib.axes._subplots.AxesSubplot at 0x11fdddef0>"
      ]
     },
     "execution_count": 31,
     "metadata": {},
     "output_type": "execute_result"
    },
    {
     "data": {
      "image/png": "[encoded data removed]",
      "text/plain": [
       "<Figure size 432x288 with 1 Axes>"
      ]
     },
     "metadata": {},
     "output_type": "display_data"
    }
   ],
   "source": [
    "#q28\n",
    "df_country.plot.scatter(x='literacy', y='area')"
   ]
  },
  {
   "cell_type": "code",
   "execution_count": 32,
   "metadata": {},
   "outputs": [
    {
     "data": {
      "text/plain": [
       "<matplotlib.axes._subplots.AxesSubplot at 0x11fe959b0>"
      ]
     },
     "execution_count": 32,
     "metadata": {},
     "output_type": "execute_result"
    },
    {
     "data": {
      "image/png": "[encoded data removed]",
      "text/plain": [
       "<Figure size 432x288 with 1 Axes>"
      ]
     },
     "metadata": {},
     "output_type": "display_data"
    }
   ],
   "source": [
    "#q29\n",
    "df_country.plot.scatter(x='gdp-per-capita', y='infant-mortality')"
   ]
  },
  {
   "cell_type": "code",
   "execution_count": 33,
   "metadata": {},
   "outputs": [
    {
     "data": {
      "text/plain": [
       "<matplotlib.axes._subplots.AxesSubplot at 0x11ff8a400>"
      ]
     },
     "execution_count": 33,
     "metadata": {},
     "output_type": "execute_result"
    },
    {
     "data": {
      "image/png": "[encoded data removed]",
      "text/plain": [
       "<Figure size 432x288 with 1 Axes>"
      ]
     },
     "metadata": {},
     "output_type": "display_data"
    }
   ],
   "source": [
    "df_country['1/(infant-mortality)'] = df_country['infant-mortality'].map(lambda x: 1/x)\n",
    "df_country[\"1\"] = 1\n",
    "res = np.linalg.lstsq(df_country[[\"gdp-per-capita\", \"1\"]], df_country[\"1/(infant-mortality)\"], rcond=None)\n",
    "\n",
    "# res is a tuple: (COEFFICIENTS, VALUE, VALUE, VALUE)\n",
    "coefficients = res[0]  # coefficients is (m,n)\n",
    "m = coefficients[0]  # slope\n",
    "n = coefficients[1]  # intercept\n",
    "ax = df_country.plot.scatter(x='gdp-per-capita', y='1/(infant-mortality)', c='black', s=30, xlim=0, ylim=0)\n",
    "\n",
    "df_country[\"fit\"] = df_country[\"gdp-per-capita\"] * m + n\n",
    "df_country.plot.line(x='gdp-per-capita', y='fit', c='red', ax=ax)"
   ]
  },
  {
   "cell_type": "code",
   "execution_count": 34,
   "metadata": {},
   "outputs": [],
   "source": []
  }
 ],
 "metadata": {
  "kernelspec": {
   "display_name": "Python 3",
   "language": "python",
   "name": "python3"
  },
  "language_info": {
   "codemirror_mode": {
    "name": "ipython",
    "version": 3
   },
   "file_extension": ".py",
   "mimetype": "text/x-python",
   "name": "python",
   "nbconvert_exporter": "python",
   "pygments_lexer": "ipython3",
   "version": "3.6.4"
  }
 },
 "nbformat": 4,
 "nbformat_minor": 1
}
